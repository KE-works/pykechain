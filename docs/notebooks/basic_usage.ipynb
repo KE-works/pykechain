{
 "cells": [
  {
   "cell_type": "markdown",
   "metadata": {},
   "source": [
    "# Basic Usage of a pykechain notebook"
   ]
  },
  {
   "cell_type": "markdown",
   "metadata": {},
   "source": [
    "<div class=\"alert alert-info\">\n",
    "\n",
    "**Note:** This is a note!\n",
    "\n",
    "</div>"
   ]
  },
  {
   "cell_type": "code",
   "execution_count": 1,
   "metadata": {},
   "outputs": [],
   "source": [
    "from IPython.display import display\n",
    "from pykechain import Client\n",
    "\n",
    "kec = Client.from_env()"
   ]
  },
  {
   "cell_type": "code",
   "execution_count": 4,
   "metadata": {},
   "outputs": [
    {
     "data": {
      "text/html": [
       "<table width=100%><tr><th>Part</th><th>ID</th></tr><tr><td>Bike Project (pykechain testing)</td><td>f521333e-a1ed-4e65-b166-999f91a38cf1</td></tr><tr><td>Product container</td><td>3dfb2a34-2187-46bc-873c-51895d8bfdfe</td></tr><tr><td>Bike</td><td>e5106946-40f7-4b49-ae5e-421450857911</td></tr><tr><td>Frame</td><td>b10afa42-06eb-475e-bd7a-3d6c96162070</td></tr><tr><td>Front Fork</td><td>a67f8a93-872b-440c-b0c7-1d96de739195</td></tr><tr><td>Seat</td><td>591cec96-9f9a-4143-b4f9-bfe32a3b727b</td></tr><tr><td>Rear Wheel</td><td>a80398fd-9271-4d94-b98d-23fee08b073e</td></tr><tr><td>Front Wheel</td><td>c252f203-3be7-48da-a2a8-2153efa19502</td></tr><tr><td>Based on proxy instance</td><td>7f43d9fc-d071-4cda-80b3-5532457bf6bf</td></tr><tr><td>Catalog container</td><td>494c1fdd-d35c-4b0e-86a4-52269681d1fe</td></tr><tr><td>Instance of Model</td><td>3b772d94-f842-4761-931f-8a68663ac006</td></tr></table>"
      ],
      "text/plain": [
       "<table width=100%><tr><th>Part</th><th>ID</th></tr><tr><td>Bike Project (pykechain testing)</td><td>f521333e-a1ed-4e65-b166-999f91a38cf1</td></tr><tr><td>Product container</td><td>3dfb2a34-2187-46bc-873c-51895d8bfdfe</td></tr><tr><td>Bike</td><td>e5106946-40f7-4b49-ae5e-421450857911</td></tr><tr><td>Frame</td><td>b10afa42-06eb-475e-bd7a-3d6c96162070</td></tr><tr><td>Front Fork</td><td>a67f8a93-872b-440c-b0c7-1d96de739195</td></tr><tr><td>Seat</td><td>591cec96-9f9a-4143-b4f9-bfe32a3b727b</td></tr><tr><td>Rear Wheel</td><td>a80398fd-9271-4d94-b98d-23fee08b073e</td></tr><tr><td>Front Wheel</td><td>c252f203-3be7-48da-a2a8-2153efa19502</td></tr><tr><td>Based on proxy instance</td><td>7f43d9fc-d071-4cda-80b3-5532457bf6bf</td></tr><tr><td>Catalog container</td><td>494c1fdd-d35c-4b0e-86a4-52269681d1fe</td></tr><tr><td>Instance of Model</td><td>3b772d94-f842-4761-931f-8a68663ac006</td></tr></table>"
      ]
     },
     "execution_count": 4,
     "metadata": {},
     "output_type": "execute_result"
    }
   ],
   "source": [
    "project = kec.scope('Bike Project')\n",
    "project.parts()"
   ]
  },
  {
   "cell_type": "code",
   "execution_count": 5,
   "metadata": {},
   "outputs": [
    {
     "data": {
      "text/html": [
       "<table width=100%><caption>Rear Wheel</caption><tr><th>Property</th><th>Value</th></tr><tr style=\"color:blue;\"><td>Diameter</td><td>60.8</td></tr><tr style=\"color:blue;\"><td>Spokes</td><td>24</td></tr><tr style=\"color:blue;\"><td>Rim Material</td><td>Aliminum</td></tr><tr style=\"color:blue;\"><td>Tire Thickness</td><td>4.2</td></tr></table>"
      ],
      "text/plain": [
       "<table width=100%><caption>Rear Wheel</caption><tr><th>Property</th><th>Value</th></tr><tr style=\"color:blue;\"><td>Diameter</td><td>60.8</td></tr><tr style=\"color:blue;\"><td>Spokes</td><td>24</td></tr><tr style=\"color:blue;\"><td>Rim Material</td><td>Aliminum</td></tr><tr style=\"color:blue;\"><td>Tire Thickness</td><td>4.2</td></tr></table>"
      ]
     },
     "execution_count": 0,
     "metadata": {},
     "output_type": "execute_result"
    },
    {
     "data": {
      "text/html": [
       "<table width=100%><caption>Front Wheel</caption><tr><th>Property</th><th>Value</th></tr><tr style=\"color:blue;\"><td>Diameter</td><td>60.8</td></tr><tr style=\"color:blue;\"><td>Spokes</td><td>24</td></tr><tr style=\"color:blue;\"><td>Rim Material</td><td>Aliminium</td></tr><tr style=\"color:blue;\"><td>Tire Thickness</td><td>4.2</td></tr></table>"
      ],
      "text/plain": [
       "<table width=100%><caption>Front Wheel</caption><tr><th>Property</th><th>Value</th></tr><tr style=\"color:blue;\"><td>Diameter</td><td>60.8</td></tr><tr style=\"color:blue;\"><td>Spokes</td><td>24</td></tr><tr style=\"color:blue;\"><td>Rim Material</td><td>Aliminium</td></tr><tr style=\"color:blue;\"><td>Tire Thickness</td><td>4.2</td></tr></table>"
      ]
     },
     "execution_count": 0,
     "metadata": {},
     "output_type": "execute_result"
    }
   ],
   "source": [
    "wheel_model = project.model('Wheel')\n",
    "\n",
    "for wheel in project.parts(model=wheel_model):\n",
    "    display(wheel)"
   ]
  },
  {
   "cell_type": "code",
   "execution_count": null,
   "metadata": {},
   "outputs": [],
   "source": []
  }
 ],
 "metadata": {
  "kernelspec": {
   "display_name": "Python 3",
   "language": "python",
   "name": "python3"
  },
  "language_info": {
   "codemirror_mode": {
    "name": "ipython",
    "version": 3
   },
   "file_extension": ".py",
   "mimetype": "text/x-python",
   "name": "python",
   "nbconvert_exporter": "python",
   "pygments_lexer": "ipython3",
   "version": "3.5.2+"
  }
 },
 "nbformat": 4,
 "nbformat_minor": 0
}
