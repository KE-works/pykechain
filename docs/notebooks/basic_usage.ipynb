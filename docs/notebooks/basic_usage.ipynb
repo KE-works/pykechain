{
 "cells": [
  {
   "cell_type": "markdown",
   "metadata": {},
   "source": [
    "# Basic Usage"
   ]
  },
  {
   "cell_type": "markdown",
   "metadata": {},
   "source": [
    "<div class=\"alert alert-info\">\n",
    "\n",
    "**Note:** This is a note!\n",
    "\n",
    "</div>"
   ]
  },
  {
   "cell_type": "code",
   "execution_count": 1,
   "metadata": {
    "collapsed": false
   },
   "outputs": [],
   "source": [
    "from IPython.display import display\n",
    "from pykechain.client import Client\n",
    "\n",
    "kec = Client.from_env()"
   ]
  },
  {
   "cell_type": "code",
   "execution_count": 2,
   "metadata": {
    "collapsed": false
   },
   "outputs": [
    {
     "data": {
      "text/html": [
       "<table width=100%><tr><th>Part</th><th>ID</th></tr><tr><td>Bike Project</td><td>9a9c5287-dabf-414d-84ce-a2b72187d4a7</td></tr><tr><td>Product</td><td>6642eb45-e4df-4fa1-ae43-716f41f14ef2</td></tr><tr><td>Bike</td><td>7bd50bae-d88a-45fa-ac83-e52c90598c53</td></tr><tr><td>Frame</td><td>4937e50a-2f33-46b5-a43b-9484aa821358</td></tr><tr><td>Front Fork</td><td>504166a9-2466-4053-9666-9b47becbfd98</td></tr><tr><td>Seat</td><td>2b8aa769-a9ea-4397-bcd2-54a46c88ff5d</td></tr><tr><td>Front Wheel</td><td>312eba89-560f-40bd-b5ee-67296c7e80af</td></tr><tr><td>Rear Wheel</td><td>955f8937-9d24-4054-8cc2-67fa4c1837d1</td></tr><tr><td>Catalog</td><td>8fed4010-8c44-415f-88e1-856634b0ed79</td></tr></table>"
      ],
      "text/plain": [
       "<pykechain.models.partset.PartSet at 0x7fa5d3046320>"
      ]
     },
     "execution_count": 2,
     "metadata": {},
     "output_type": "execute_result"
    }
   ],
   "source": [
    "project = kec.scope('Bike Project')\n",
    "project.parts()"
   ]
  },
  {
   "cell_type": "code",
   "execution_count": 4,
   "metadata": {
    "collapsed": false
   },
   "outputs": [
    {
     "data": {
      "text/html": [
       "<table width=100%><caption>Front Wheel</caption><tr><th>Property</th><th>Value</th></tr><tr style=\"color:blue;\"><td>Diameter</td><td>60.8</td></tr><tr style=\"color:blue;\"><td>Spokes</td><td>24</td></tr><tr style=\"color:blue;\"><td>Rim Material</td><td>Aliminum</td></tr><tr style=\"color:blue;\"><td>Tire Thickness</td><td>4.2</td></tr></table>"
      ],
      "text/plain": [
       "<pykechain.models.part.Part at 0x7fa5d3059ef0>"
      ]
     },
     "metadata": {},
     "output_type": "display_data"
    },
    {
     "data": {
      "text/html": [
       "<table width=100%><caption>Rear Wheel</caption><tr><th>Property</th><th>Value</th></tr><tr style=\"color:blue;\"><td>Diameter</td><td>60.8</td></tr><tr style=\"color:blue;\"><td>Spokes</td><td>24</td></tr><tr style=\"color:blue;\"><td>Rim Material</td><td>Aliminum</td></tr><tr style=\"color:blue;\"><td>Tire Thickness</td><td>4.2</td></tr></table>"
      ],
      "text/plain": [
       "<pykechain.models.part.Part at 0x7fa5d3059f28>"
      ]
     },
     "metadata": {},
     "output_type": "display_data"
    }
   ],
   "source": [
    "# wheel_model = project.model('Wheel')\n",
    "\n",
    "for wheel in project.parts(model=wheel_model):\n",
    "    display(wheel)"
   ]
  }
 ],
 "metadata": {
  "kernelspec": {
   "display_name": "Python 3",
   "language": "python",
   "name": "python3"
  },
  "language_info": {
   "codemirror_mode": {
    "name": "ipython",
    "version": 3
   },
   "file_extension": ".py",
   "mimetype": "text/x-python",
   "name": "python",
   "nbconvert_exporter": "python",
   "pygments_lexer": "ipython3",
   "version": "3.5.2"
  }
 },
 "nbformat": 4,
 "nbformat_minor": 2
}
