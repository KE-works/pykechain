{
 "cells": [
  {
   "cell_type": "code",
   "execution_count": null,
   "metadata": {
    "collapsed": false
   },
   "outputs": [],
   "source": [
    "import sys\n",
    "\n",
    "def custom_exc(shell, etype, value, tb, tb_offset=None):\n",
    "    print(\"Problem: {}\".format(value), file=sys.stderr)\n",
    "    return None\n",
    "\n",
    "get_ipython().set_custom_exc((AssertionError,), custom_exc)"
   ]
  },
  {
   "cell_type": "code",
   "execution_count": 1,
   "metadata": {
    "collapsed": false
   },
   "outputs": [
    {
     "ename": "LoginRequiredError",
     "evalue": "",
     "output_type": "error",
     "traceback": [
      "\u001b[0;31m---------------------------------------------------------------------------\u001b[0m",
      "\u001b[0;31mLoginRequiredError\u001b[0m                        Traceback (most recent call last)",
      "\u001b[0;32m<ipython-input-1-059c153b4119>\u001b[0m in \u001b[0;36m<module>\u001b[0;34m()\u001b[0m\n\u001b[1;32m      2\u001b[0m \u001b[0;34m\u001b[0m\u001b[0m\n\u001b[1;32m      3\u001b[0m \u001b[0mc\u001b[0m \u001b[0;34m=\u001b[0m \u001b[0mkechain2\u001b[0m\u001b[0;34m.\u001b[0m\u001b[0mclient\u001b[0m\u001b[0;34m.\u001b[0m\u001b[0mClient\u001b[0m\u001b[0;34m(\u001b[0m\u001b[0;34m)\u001b[0m\u001b[0;34m\u001b[0m\u001b[0m\n\u001b[0;32m----> 4\u001b[0;31m \u001b[0mc\u001b[0m\u001b[0;34m.\u001b[0m\u001b[0mparts\u001b[0m\u001b[0;34m(\u001b[0m\u001b[0;34m)\u001b[0m\u001b[0;34m\u001b[0m\u001b[0m\n\u001b[0m",
      "\u001b[0;32m/home/wilco/Development/jupyterlab/kechain2/client.py\u001b[0m in \u001b[0;36mparts\u001b[0;34m(self, name, pk, model, category, bucket, activity)\u001b[0m\n\u001b[1;32m     72\u001b[0m             \u001b[0;34m'category'\u001b[0m\u001b[0;34m:\u001b[0m \u001b[0mcategory\u001b[0m\u001b[0;34m,\u001b[0m\u001b[0;34m\u001b[0m\u001b[0m\n\u001b[1;32m     73\u001b[0m             \u001b[0;34m'bucket'\u001b[0m\u001b[0;34m:\u001b[0m \u001b[0mbucket\u001b[0m\u001b[0;34m,\u001b[0m\u001b[0;34m\u001b[0m\u001b[0m\n\u001b[0;32m---> 74\u001b[0;31m             \u001b[0;34m'activity_id'\u001b[0m\u001b[0;34m:\u001b[0m \u001b[0mactivity\u001b[0m\u001b[0;34m\u001b[0m\u001b[0m\n\u001b[0m\u001b[1;32m     75\u001b[0m         })\n\u001b[1;32m     76\u001b[0m \u001b[0;34m\u001b[0m\u001b[0m\n",
      "\u001b[0;32m/home/wilco/Development/jupyterlab/kechain2/client.py\u001b[0m in \u001b[0;36m_request\u001b[0;34m(self, method, url, **kwargs)\u001b[0m\n\u001b[1;32m     50\u001b[0m \u001b[0;34m\u001b[0m\u001b[0m\n\u001b[1;32m     51\u001b[0m         \u001b[0;32mif\u001b[0m \u001b[0mr\u001b[0m\u001b[0;34m.\u001b[0m\u001b[0mstatus_code\u001b[0m \u001b[0;34m==\u001b[0m \u001b[0;36m403\u001b[0m\u001b[0;34m:\u001b[0m\u001b[0;34m\u001b[0m\u001b[0m\n\u001b[0;32m---> 52\u001b[0;31m             \u001b[0;32mraise\u001b[0m \u001b[0mLoginRequiredError\u001b[0m\u001b[0;34m\u001b[0m\u001b[0m\n\u001b[0m\u001b[1;32m     53\u001b[0m \u001b[0;34m\u001b[0m\u001b[0m\n\u001b[1;32m     54\u001b[0m         \u001b[0;32mreturn\u001b[0m \u001b[0mr\u001b[0m\u001b[0;34m\u001b[0m\u001b[0m\n",
      "\u001b[0;31mLoginRequiredError\u001b[0m: "
     ]
    }
   ],
   "source": [
    "import kechain2.client\n",
    "\n",
    "c = kechain2.client.Client()\n",
    "c.parts()"
   ]
  },
  {
   "cell_type": "code",
   "execution_count": 2,
   "metadata": {
    "collapsed": false
   },
   "outputs": [
    {
     "data": {
      "text/html": [
       "<table width=100%><tr><th>Part</th><th>ID</th></tr><tr><td>Bike Project</td><td><a target='_blank' href=http://localhost:8000/api/parts/73c78109-4a34-463b-8823-3fc734b26218>73c78109-4a34-463b-8823-3fc734b26218</a></td></tr><tr><td>Product</td><td><a target='_blank' href=http://localhost:8000/api/parts/ed261cc2-e417-414a-aef5-946df8817b29>ed261cc2-e417-414a-aef5-946df8817b29</a></td></tr><tr><td>Bike</td><td><a target='_blank' href=http://localhost:8000/api/parts/a8751a67-ce63-4308-81a7-e47712376782>a8751a67-ce63-4308-81a7-e47712376782</a></td></tr><tr><td>Frame</td><td><a target='_blank' href=http://localhost:8000/api/parts/bf369bb8-b649-4bc9-ba7a-f35e357f4711>bf369bb8-b649-4bc9-ba7a-f35e357f4711</a></td></tr><tr><td>Front Fork</td><td><a target='_blank' href=http://localhost:8000/api/parts/2fcec18c-dd4d-4cd4-89d8-3db04147c30f>2fcec18c-dd4d-4cd4-89d8-3db04147c30f</a></td></tr><tr><td>Seat</td><td><a target='_blank' href=http://localhost:8000/api/parts/7ede1e33-e224-41a0-87a0-6a5f151991b3>7ede1e33-e224-41a0-87a0-6a5f151991b3</a></td></tr><tr><td>Front Wheel</td><td><a target='_blank' href=http://localhost:8000/api/parts/fe1b868a-894a-406f-a78d-33e57578a2e9>fe1b868a-894a-406f-a78d-33e57578a2e9</a></td></tr><tr><td>Rear Wheel</td><td><a target='_blank' href=http://localhost:8000/api/parts/6f773001-5b7e-452d-a46b-c98361170753>6f773001-5b7e-452d-a46b-c98361170753</a></td></tr><tr><td>Wheel</td><td><a target='_blank' href=http://localhost:8000/api/parts/0a9f15e1-2942-4d85-b5e0-bf06b324ba1e>0a9f15e1-2942-4d85-b5e0-bf06b324ba1e</a></td></tr><tr><td>Wheel</td><td><a target='_blank' href=http://localhost:8000/api/parts/4241e502-bcfa-4360-a477-08fe6ec56b33>4241e502-bcfa-4360-a477-08fe6ec56b33</a></td></tr><tr><td>Wheel</td><td><a target='_blank' href=http://localhost:8000/api/parts/c3d0f780-fd2c-44a4-a410-4a6bdc1131aa>c3d0f780-fd2c-44a4-a410-4a6bdc1131aa</a></td></tr><tr><td>Wheel</td><td><a target='_blank' href=http://localhost:8000/api/parts/bfa88a9a-077b-43d9-af25-281576b13ca6>bfa88a9a-077b-43d9-af25-281576b13ca6</a></td></tr><tr><td>Joost</td><td><a target='_blank' href=http://localhost:8000/api/parts/ed7e2afe-5599-4f9c-8872-fc7e2baa0fff>ed7e2afe-5599-4f9c-8872-fc7e2baa0fff</a></td></tr><tr><td>Catalog</td><td><a target='_blank' href=http://localhost:8000/api/parts/a6882108-1f1a-4d93-9702-a9f40bc753db>a6882108-1f1a-4d93-9702-a9f40bc753db</a></td></tr><tr><td>Bike Project Template</td><td><a target='_blank' href=http://localhost:8000/api/parts/0ffcae96-a679-4f3a-afd9-8f8ec068790a>0ffcae96-a679-4f3a-afd9-8f8ec068790a</a></td></tr><tr><td>Product</td><td><a target='_blank' href=http://localhost:8000/api/parts/0f6e9bab-a931-4182-bea2-04f56f8a62af>0f6e9bab-a931-4182-bea2-04f56f8a62af</a></td></tr><tr><td>Catalog</td><td><a target='_blank' href=http://localhost:8000/api/parts/6caeacc4-15cd-4bfd-8802-430a6bc33372>6caeacc4-15cd-4bfd-8802-430a6bc33372</a></td></tr><tr><td>Library</td><td><a target='_blank' href=http://localhost:8000/api/parts/23abc5c8-cb24-4d9e-8f30-d510c31a23b3>23abc5c8-cb24-4d9e-8f30-d510c31a23b3</a></td></tr><tr><td>Catalog</td><td><a target='_blank' href=http://localhost:8000/api/parts/e8ea0c89-029b-471f-a855-293887e30ea9>e8ea0c89-029b-471f-a855-293887e30ea9</a></td></tr><tr><td>Cannondale Project</td><td><a target='_blank' href=http://localhost:8000/api/parts/b25f2963-91d6-4eb4-861d-56064e7171d7>b25f2963-91d6-4eb4-861d-56064e7171d7</a></td></tr><tr><td>Product</td><td><a target='_blank' href=http://localhost:8000/api/parts/9cb19969-1470-4b81-b2a9-28208f819b82>9cb19969-1470-4b81-b2a9-28208f819b82</a></td></tr><tr><td>Cannondale Bike</td><td><a target='_blank' href=http://localhost:8000/api/parts/431099e2-42ab-4479-8d77-c33824ac2b98>431099e2-42ab-4479-8d77-c33824ac2b98</a></td></tr><tr><td>Catalog</td><td><a target='_blank' href=http://localhost:8000/api/parts/cde8311e-69da-4bc6-bf34-81d19ac787c3>cde8311e-69da-4bc6-bf34-81d19ac787c3</a></td></tr><tr><td>Cannondale Project Template</td><td><a target='_blank' href=http://localhost:8000/api/parts/47892460-8922-4f99-a7da-858d0c3baf1a>47892460-8922-4f99-a7da-858d0c3baf1a</a></td></tr><tr><td>Product</td><td><a target='_blank' href=http://localhost:8000/api/parts/4cbe273e-48d0-4d31-946d-7b7eef96c386>4cbe273e-48d0-4d31-946d-7b7eef96c386</a></td></tr><tr><td>Catalog</td><td><a target='_blank' href=http://localhost:8000/api/parts/f0a954f2-77fd-47f4-b9e5-a02348a4ce1e>f0a954f2-77fd-47f4-b9e5-a02348a4ce1e</a></td></tr></table>"
      ],
      "text/plain": [
       "<kechain2.sets.PartSet at 0x7f5a41bb8160>"
      ]
     },
     "execution_count": 2,
     "metadata": {},
     "output_type": "execute_result"
    }
   ],
   "source": [
    "import kechain2.client\n",
    "\n",
    "c = kechain2.client.Client()\n",
    "c.login('admin', 'pass')\n",
    "c.parts()"
   ]
  },
  {
   "cell_type": "code",
   "execution_count": 3,
   "metadata": {
    "collapsed": false,
    "scrolled": false
   },
   "outputs": [
    {
     "data": {
      "text/html": [
       "<table width=100%><tr><th>Part</th><th>ID</th></tr><tr><td>Bike Project</td><td><a target='_blank' href=http://localhost:8000/api/parts/73c78109-4a34-463b-8823-3fc734b26218>73c78109-4a34-463b-8823-3fc734b26218</a></td></tr><tr><td>Product</td><td><a target='_blank' href=http://localhost:8000/api/parts/ed261cc2-e417-414a-aef5-946df8817b29>ed261cc2-e417-414a-aef5-946df8817b29</a></td></tr><tr><td>Bike</td><td><a target='_blank' href=http://localhost:8000/api/parts/a8751a67-ce63-4308-81a7-e47712376782>a8751a67-ce63-4308-81a7-e47712376782</a></td></tr><tr><td>Frame</td><td><a target='_blank' href=http://localhost:8000/api/parts/bf369bb8-b649-4bc9-ba7a-f35e357f4711>bf369bb8-b649-4bc9-ba7a-f35e357f4711</a></td></tr><tr><td>Front Fork</td><td><a target='_blank' href=http://localhost:8000/api/parts/2fcec18c-dd4d-4cd4-89d8-3db04147c30f>2fcec18c-dd4d-4cd4-89d8-3db04147c30f</a></td></tr><tr><td>Seat</td><td><a target='_blank' href=http://localhost:8000/api/parts/7ede1e33-e224-41a0-87a0-6a5f151991b3>7ede1e33-e224-41a0-87a0-6a5f151991b3</a></td></tr><tr><td>Front Wheel</td><td><a target='_blank' href=http://localhost:8000/api/parts/fe1b868a-894a-406f-a78d-33e57578a2e9>fe1b868a-894a-406f-a78d-33e57578a2e9</a></td></tr><tr><td>Rear Wheel</td><td><a target='_blank' href=http://localhost:8000/api/parts/6f773001-5b7e-452d-a46b-c98361170753>6f773001-5b7e-452d-a46b-c98361170753</a></td></tr><tr><td>Wheel</td><td><a target='_blank' href=http://localhost:8000/api/parts/0a9f15e1-2942-4d85-b5e0-bf06b324ba1e>0a9f15e1-2942-4d85-b5e0-bf06b324ba1e</a></td></tr><tr><td>Wheel</td><td><a target='_blank' href=http://localhost:8000/api/parts/4241e502-bcfa-4360-a477-08fe6ec56b33>4241e502-bcfa-4360-a477-08fe6ec56b33</a></td></tr><tr><td>Wheel</td><td><a target='_blank' href=http://localhost:8000/api/parts/c3d0f780-fd2c-44a4-a410-4a6bdc1131aa>c3d0f780-fd2c-44a4-a410-4a6bdc1131aa</a></td></tr><tr><td>Wheel</td><td><a target='_blank' href=http://localhost:8000/api/parts/bfa88a9a-077b-43d9-af25-281576b13ca6>bfa88a9a-077b-43d9-af25-281576b13ca6</a></td></tr><tr><td>Joost</td><td><a target='_blank' href=http://localhost:8000/api/parts/ed7e2afe-5599-4f9c-8872-fc7e2baa0fff>ed7e2afe-5599-4f9c-8872-fc7e2baa0fff</a></td></tr><tr><td>Catalog</td><td><a target='_blank' href=http://localhost:8000/api/parts/a6882108-1f1a-4d93-9702-a9f40bc753db>a6882108-1f1a-4d93-9702-a9f40bc753db</a></td></tr><tr><td>Bike Project Template</td><td><a target='_blank' href=http://localhost:8000/api/parts/0ffcae96-a679-4f3a-afd9-8f8ec068790a>0ffcae96-a679-4f3a-afd9-8f8ec068790a</a></td></tr><tr><td>Product</td><td><a target='_blank' href=http://localhost:8000/api/parts/0f6e9bab-a931-4182-bea2-04f56f8a62af>0f6e9bab-a931-4182-bea2-04f56f8a62af</a></td></tr><tr><td>Catalog</td><td><a target='_blank' href=http://localhost:8000/api/parts/6caeacc4-15cd-4bfd-8802-430a6bc33372>6caeacc4-15cd-4bfd-8802-430a6bc33372</a></td></tr><tr><td>Library</td><td><a target='_blank' href=http://localhost:8000/api/parts/23abc5c8-cb24-4d9e-8f30-d510c31a23b3>23abc5c8-cb24-4d9e-8f30-d510c31a23b3</a></td></tr><tr><td>Catalog</td><td><a target='_blank' href=http://localhost:8000/api/parts/e8ea0c89-029b-471f-a855-293887e30ea9>e8ea0c89-029b-471f-a855-293887e30ea9</a></td></tr><tr><td>Cannondale Project</td><td><a target='_blank' href=http://localhost:8000/api/parts/b25f2963-91d6-4eb4-861d-56064e7171d7>b25f2963-91d6-4eb4-861d-56064e7171d7</a></td></tr><tr><td>Product</td><td><a target='_blank' href=http://localhost:8000/api/parts/9cb19969-1470-4b81-b2a9-28208f819b82>9cb19969-1470-4b81-b2a9-28208f819b82</a></td></tr><tr><td>Cannondale Bike</td><td><a target='_blank' href=http://localhost:8000/api/parts/431099e2-42ab-4479-8d77-c33824ac2b98>431099e2-42ab-4479-8d77-c33824ac2b98</a></td></tr><tr><td>Catalog</td><td><a target='_blank' href=http://localhost:8000/api/parts/cde8311e-69da-4bc6-bf34-81d19ac787c3>cde8311e-69da-4bc6-bf34-81d19ac787c3</a></td></tr><tr><td>Cannondale Project Template</td><td><a target='_blank' href=http://localhost:8000/api/parts/47892460-8922-4f99-a7da-858d0c3baf1a>47892460-8922-4f99-a7da-858d0c3baf1a</a></td></tr><tr><td>Product</td><td><a target='_blank' href=http://localhost:8000/api/parts/4cbe273e-48d0-4d31-946d-7b7eef96c386>4cbe273e-48d0-4d31-946d-7b7eef96c386</a></td></tr><tr><td>Catalog</td><td><a target='_blank' href=http://localhost:8000/api/parts/f0a954f2-77fd-47f4-b9e5-a02348a4ce1e>f0a954f2-77fd-47f4-b9e5-a02348a4ce1e</a></td></tr></table>"
      ],
      "text/plain": [
       "<kechain2.sets.PartSet at 0x7f5a41bd5208>"
      ]
     },
     "execution_count": 3,
     "metadata": {},
     "output_type": "execute_result"
    }
   ],
   "source": [
    "import kechain2.client\n",
    "\n",
    "c = kechain2.client.Client()\n",
    "c.login(token=\"e920094902818b26feb4fac3dfa2904fff88649c\")\n",
    "c.parts()"
   ]
  },
  {
   "cell_type": "code",
   "execution_count": 4,
   "metadata": {
    "collapsed": false,
    "scrolled": true
   },
   "outputs": [
    {
     "data": {
      "text/html": [
       "<table width=100%><tr><th>Part</th><th>ID</th></tr><tr><td>Bike Project</td><td><a target='_blank' href=http://localhost:8000/api/parts/73c78109-4a34-463b-8823-3fc734b26218>73c78109-4a34-463b-8823-3fc734b26218</a></td></tr><tr><td>Product</td><td><a target='_blank' href=http://localhost:8000/api/parts/ed261cc2-e417-414a-aef5-946df8817b29>ed261cc2-e417-414a-aef5-946df8817b29</a></td></tr><tr><td>Bike</td><td><a target='_blank' href=http://localhost:8000/api/parts/a8751a67-ce63-4308-81a7-e47712376782>a8751a67-ce63-4308-81a7-e47712376782</a></td></tr><tr><td>Frame</td><td><a target='_blank' href=http://localhost:8000/api/parts/bf369bb8-b649-4bc9-ba7a-f35e357f4711>bf369bb8-b649-4bc9-ba7a-f35e357f4711</a></td></tr><tr><td>Front Fork</td><td><a target='_blank' href=http://localhost:8000/api/parts/2fcec18c-dd4d-4cd4-89d8-3db04147c30f>2fcec18c-dd4d-4cd4-89d8-3db04147c30f</a></td></tr><tr><td>Seat</td><td><a target='_blank' href=http://localhost:8000/api/parts/7ede1e33-e224-41a0-87a0-6a5f151991b3>7ede1e33-e224-41a0-87a0-6a5f151991b3</a></td></tr><tr><td>Front Wheel</td><td><a target='_blank' href=http://localhost:8000/api/parts/fe1b868a-894a-406f-a78d-33e57578a2e9>fe1b868a-894a-406f-a78d-33e57578a2e9</a></td></tr><tr><td>Rear Wheel</td><td><a target='_blank' href=http://localhost:8000/api/parts/6f773001-5b7e-452d-a46b-c98361170753>6f773001-5b7e-452d-a46b-c98361170753</a></td></tr><tr><td>Wheel</td><td><a target='_blank' href=http://localhost:8000/api/parts/0a9f15e1-2942-4d85-b5e0-bf06b324ba1e>0a9f15e1-2942-4d85-b5e0-bf06b324ba1e</a></td></tr><tr><td>Wheel</td><td><a target='_blank' href=http://localhost:8000/api/parts/4241e502-bcfa-4360-a477-08fe6ec56b33>4241e502-bcfa-4360-a477-08fe6ec56b33</a></td></tr><tr><td>Wheel</td><td><a target='_blank' href=http://localhost:8000/api/parts/c3d0f780-fd2c-44a4-a410-4a6bdc1131aa>c3d0f780-fd2c-44a4-a410-4a6bdc1131aa</a></td></tr><tr><td>Wheel</td><td><a target='_blank' href=http://localhost:8000/api/parts/bfa88a9a-077b-43d9-af25-281576b13ca6>bfa88a9a-077b-43d9-af25-281576b13ca6</a></td></tr><tr><td>Joost</td><td><a target='_blank' href=http://localhost:8000/api/parts/ed7e2afe-5599-4f9c-8872-fc7e2baa0fff>ed7e2afe-5599-4f9c-8872-fc7e2baa0fff</a></td></tr><tr><td>Catalog</td><td><a target='_blank' href=http://localhost:8000/api/parts/a6882108-1f1a-4d93-9702-a9f40bc753db>a6882108-1f1a-4d93-9702-a9f40bc753db</a></td></tr><tr><td>Bike Project Template</td><td><a target='_blank' href=http://localhost:8000/api/parts/0ffcae96-a679-4f3a-afd9-8f8ec068790a>0ffcae96-a679-4f3a-afd9-8f8ec068790a</a></td></tr><tr><td>Product</td><td><a target='_blank' href=http://localhost:8000/api/parts/0f6e9bab-a931-4182-bea2-04f56f8a62af>0f6e9bab-a931-4182-bea2-04f56f8a62af</a></td></tr><tr><td>Catalog</td><td><a target='_blank' href=http://localhost:8000/api/parts/6caeacc4-15cd-4bfd-8802-430a6bc33372>6caeacc4-15cd-4bfd-8802-430a6bc33372</a></td></tr><tr><td>Library</td><td><a target='_blank' href=http://localhost:8000/api/parts/23abc5c8-cb24-4d9e-8f30-d510c31a23b3>23abc5c8-cb24-4d9e-8f30-d510c31a23b3</a></td></tr><tr><td>Catalog</td><td><a target='_blank' href=http://localhost:8000/api/parts/e8ea0c89-029b-471f-a855-293887e30ea9>e8ea0c89-029b-471f-a855-293887e30ea9</a></td></tr><tr><td>Cannondale Project</td><td><a target='_blank' href=http://localhost:8000/api/parts/b25f2963-91d6-4eb4-861d-56064e7171d7>b25f2963-91d6-4eb4-861d-56064e7171d7</a></td></tr><tr><td>Product</td><td><a target='_blank' href=http://localhost:8000/api/parts/9cb19969-1470-4b81-b2a9-28208f819b82>9cb19969-1470-4b81-b2a9-28208f819b82</a></td></tr><tr><td>Cannondale Bike</td><td><a target='_blank' href=http://localhost:8000/api/parts/431099e2-42ab-4479-8d77-c33824ac2b98>431099e2-42ab-4479-8d77-c33824ac2b98</a></td></tr><tr><td>Catalog</td><td><a target='_blank' href=http://localhost:8000/api/parts/cde8311e-69da-4bc6-bf34-81d19ac787c3>cde8311e-69da-4bc6-bf34-81d19ac787c3</a></td></tr><tr><td>Cannondale Project Template</td><td><a target='_blank' href=http://localhost:8000/api/parts/47892460-8922-4f99-a7da-858d0c3baf1a>47892460-8922-4f99-a7da-858d0c3baf1a</a></td></tr><tr><td>Product</td><td><a target='_blank' href=http://localhost:8000/api/parts/4cbe273e-48d0-4d31-946d-7b7eef96c386>4cbe273e-48d0-4d31-946d-7b7eef96c386</a></td></tr><tr><td>Catalog</td><td><a target='_blank' href=http://localhost:8000/api/parts/f0a954f2-77fd-47f4-b9e5-a02348a4ce1e>f0a954f2-77fd-47f4-b9e5-a02348a4ce1e</a></td></tr></table>"
      ],
      "text/plain": [
       "<kechain2.sets.PartSet at 0x7f5a41b68be0>"
      ]
     },
     "execution_count": 4,
     "metadata": {},
     "output_type": "execute_result"
    }
   ],
   "source": [
    "import kechain2\n",
    "\n",
    "kechain2.login(token=\"e920094902818b26feb4fac3dfa2904fff88649c\")\n",
    "kechain2.parts()"
   ]
  },
  {
   "cell_type": "code",
   "execution_count": 6,
   "metadata": {
    "collapsed": false
   },
   "outputs": [],
   "source": [
    "front_wheel = kechain2.part('Front Wheel')\n",
    "diameter = front_wheel.property('Diameter')\n",
    "diameter.value = 100"
   ]
  },
  {
   "cell_type": "code",
   "execution_count": 7,
   "metadata": {
    "collapsed": false,
    "scrolled": true
   },
   "outputs": [
    {
     "data": {
      "text/plain": [
       "99999"
      ]
     },
     "execution_count": 7,
     "metadata": {},
     "output_type": "execute_result"
    }
   ],
   "source": [
    "kechain2.part('Bike').property('Gears').value"
   ]
  },
  {
   "cell_type": "code",
   "execution_count": 8,
   "metadata": {
    "collapsed": false,
    "scrolled": true
   },
   "outputs": [
    {
     "data": {
      "text/html": [
       "<table width=100%><tr><th>Part</th><th>Category</th><th>ID</th></tr><tr><td>Bike</td><td>MODEL</td><td><a target='_blank' href=http://localhost:8000/api/parts/df504613-7bca-428a-974f-e1f8aee933f3>df504613-7bca-428a-974f-e1f8aee933f3</a></td></tr><tr><td>Bike</td><td>INSTANCE</td><td><a target='_blank' href=http://localhost:8000/api/parts/a8751a67-ce63-4308-81a7-e47712376782>a8751a67-ce63-4308-81a7-e47712376782</a></td></tr></table>"
      ],
      "text/plain": [
       "<kechain2.sets.PartSet at 0x7f5a41b7d1d0>"
      ]
     },
     "execution_count": 8,
     "metadata": {},
     "output_type": "execute_result"
    }
   ],
   "source": [
    "kechain2.parts('Bike', category=None)"
   ]
  },
  {
   "cell_type": "code",
   "execution_count": 9,
   "metadata": {
    "collapsed": false
   },
   "outputs": [
    {
     "ename": "AttributeError",
     "evalue": "module 'kechain2' has no attribute 'scope'",
     "output_type": "error",
     "traceback": [
      "\u001b[0;31m---------------------------------------------------------------------------\u001b[0m",
      "\u001b[0;31mAttributeError\u001b[0m                            Traceback (most recent call last)",
      "\u001b[0;32m<ipython-input-9-746c2099ae7f>\u001b[0m in \u001b[0;36m<module>\u001b[0;34m()\u001b[0m\n\u001b[0;32m----> 1\u001b[0;31m \u001b[0mproject\u001b[0m \u001b[0;34m=\u001b[0m \u001b[0mkechain2\u001b[0m\u001b[0;34m.\u001b[0m\u001b[0mscope\u001b[0m\u001b[0;34m(\u001b[0m\u001b[0;34m'Bike Project'\u001b[0m\u001b[0;34m)\u001b[0m\u001b[0;34m\u001b[0m\u001b[0m\n\u001b[0m\u001b[1;32m      2\u001b[0m \u001b[0mproject\u001b[0m\u001b[0;34m.\u001b[0m\u001b[0mpart\u001b[0m\u001b[0;34m(\u001b[0m\u001b[0;34m'Frame'\u001b[0m\u001b[0;34m)\u001b[0m\u001b[0;34m\u001b[0m\u001b[0m\n",
      "\u001b[0;31mAttributeError\u001b[0m: module 'kechain2' has no attribute 'scope'"
     ]
    }
   ],
   "source": [
    "project = kechain2.scope('Bike Project')\n",
    "project.part('Frame')"
   ]
  },
  {
   "cell_type": "code",
   "execution_count": 10,
   "metadata": {
    "collapsed": false
   },
   "outputs": [
    {
     "ename": "NameError",
     "evalue": "name 'project' is not defined",
     "output_type": "error",
     "traceback": [
      "\u001b[0;31m---------------------------------------------------------------------------\u001b[0m",
      "\u001b[0;31mNameError\u001b[0m                                 Traceback (most recent call last)",
      "\u001b[0;32m<ipython-input-10-63fc4ee029c3>\u001b[0m in \u001b[0;36m<module>\u001b[0;34m()\u001b[0m\n\u001b[0;32m----> 1\u001b[0;31m \u001b[0mproject\u001b[0m\u001b[0;34m.\u001b[0m\u001b[0mparts\u001b[0m\u001b[0;34m(\u001b[0m\u001b[0mmodel\u001b[0m\u001b[0;34m=\u001b[0m\u001b[0mproject\u001b[0m\u001b[0;34m.\u001b[0m\u001b[0mmodel\u001b[0m\u001b[0;34m(\u001b[0m\u001b[0;34m'Wheel'\u001b[0m\u001b[0;34m)\u001b[0m\u001b[0;34m)\u001b[0m\u001b[0;34m\u001b[0m\u001b[0m\n\u001b[0m",
      "\u001b[0;31mNameError\u001b[0m: name 'project' is not defined"
     ]
    }
   ],
   "source": [
    "project.parts(model=project.model('Wheel'))"
   ]
  },
  {
   "cell_type": "code",
   "execution_count": null,
   "metadata": {
    "collapsed": false
   },
   "outputs": [],
   "source": [
    "from IPython.display import display\n",
    "\n",
    "task = kechain2.activity(\"Specify wheel diameter\")\n",
    "\n",
    "for p in task.parts():        \n",
    "    display(p)"
   ]
  },
  {
   "cell_type": "code",
   "execution_count": null,
   "metadata": {
    "collapsed": false
   },
   "outputs": [],
   "source": [
    "kechain2.properties('Diameter')[1].part.property('Spokes').value = 200"
   ]
  },
  {
   "cell_type": "code",
   "execution_count": null,
   "metadata": {
    "collapsed": false,
    "scrolled": true
   },
   "outputs": [],
   "source": [
    "wheel = kechain2.model('Wheel')\n",
    "bike = kechain2.part('Bike')\n",
    "\n",
    "bike.add(wheel)"
   ]
  },
  {
   "cell_type": "code",
   "execution_count": null,
   "metadata": {
    "collapsed": false
   },
   "outputs": [],
   "source": [
    "import math\n",
    "import random\n",
    "\n",
    "wheel_model = kechain2.part(name='Wheel', category='MODEL')\n",
    "wheels = kechain2.parts(model=wheel_model)\n",
    "\n",
    "for wheel in wheels:\n",
    "    num_spokes = random.randint(1, 10)\n",
    "    noise = random.random() * 3\n",
    "    \n",
    "    wheel.property('Spokes').value = num_spokes\n",
    "    wheel.property('Diameter').value = 10 * math.sin(num_spokes) + noise"
   ]
  },
  {
   "cell_type": "code",
   "execution_count": 12,
   "metadata": {
    "collapsed": false,
    "scrolled": true
   },
   "outputs": [
    {
     "data": {
      "image/png": "[encoded data removed]",
      "text/plain": [
       "<matplotlib.figure.Figure at 0x7f5a41b8be80>"
      ]
     },
     "metadata": {},
     "output_type": "display_data"
    }
   ],
   "source": [
    "import matplotlib.pyplot as plt\n",
    "import numpy as np\n",
    "\n",
    "x = np.arange(1, 10, 0.01)\n",
    "y = 10 * np.sin(x)\n",
    "plt.plot(x, y)\n",
    "\n",
    "#wheels = kechain2.parts(model=kechain2.model('Wheel'))\n",
    "#plt.plot(wheels['Spokes'], wheels['Diameter'], 'd', markersize=10)\n",
    "\n",
    "plt.xlabel('Spokes')\n",
    "plt.ylabel('Diameter [cm]')\n",
    "plt.title('Spokes\\' Theorem')\n",
    "\n",
    "kechain2.part('Bike').property('Picture').value = plt.gcf()\n",
    "\n",
    "plt.show()"
   ]
  },
  {
   "cell_type": "code",
   "execution_count": null,
   "metadata": {
    "collapsed": false
   },
   "outputs": [],
   "source": [
    "wheels = kechain2.parts(model=kechain2.model('Wheel'))\n",
    "\n",
    "wheels.values('Diameter')"
   ]
  }
 ],
 "metadata": {
  "kernelspec": {
   "display_name": "Python 3",
   "language": "python",
   "name": "python3"
  },
  "language_info": {
   "codemirror_mode": {
    "name": "ipython",
    "version": 3
   },
   "file_extension": ".py",
   "mimetype": "text/x-python",
   "name": "python",
   "nbconvert_exporter": "python",
   "pygments_lexer": "ipython3",
   "version": "3.5.2"
  }
 },
 "nbformat": 4,
 "nbformat_minor": 0
}
