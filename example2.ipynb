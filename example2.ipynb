{
 "cells": [
  {
   "cell_type": "code",
   "execution_count": null,
   "metadata": {
    "collapsed": false
   },
   "outputs": [],
   "source": [
    "import sys\n",
    "\n",
    "def custom_exc(shell, etype, value, tb, tb_offset=None):\n",
    "    print(\"Problem: {}\".format(value), file=sys.stderr)\n",
    "    return None\n",
    "\n",
    "get_ipython().set_custom_exc((AssertionError,), custom_exc)"
   ]
  },
  {
   "cell_type": "code",
   "execution_count": 1,
   "metadata": {
    "collapsed": true
   },
   "outputs": [],
   "source": [
    "import kechain2\n",
    "\n",
    "kechain2.login(\"***REMOVED***\")"
   ]
  },
  {
   "cell_type": "code",
   "execution_count": 47,
   "metadata": {
    "collapsed": false
   },
   "outputs": [],
   "source": [
    "front_wheel = kechain2.part('Front Wheel')\n",
    "diameter = front_wheel.property('Diameter')\n",
    "diameter.value = 20"
   ]
  },
  {
   "cell_type": "code",
   "execution_count": 48,
   "metadata": {
    "collapsed": false,
    "scrolled": true
   },
   "outputs": [
    {
     "data": {
      "text/plain": [
       "6"
      ]
     },
     "execution_count": 48,
     "metadata": {},
     "output_type": "execute_result"
    }
   ],
   "source": [
    "kechain2.part('Bike').property('Gears').value"
   ]
  },
  {
   "cell_type": "code",
   "execution_count": 49,
   "metadata": {
    "collapsed": false,
    "scrolled": true
   },
   "outputs": [
    {
     "data": {
      "text/html": [
       "<table width=100%><tr><th>Part</th><th>Category</th><th>ID</th></tr><tr><td>Bike</td><td>MODEL</td><td><a target='_blank' href=http://0.0.0.0:8000/api/parts/df504613-7bca-428a-974f-e1f8aee933f3>df504613-7bca-428a-974f-e1f8aee933f3</a></td></tr><tr><td>Bike</td><td>INSTANCE</td><td><a target='_blank' href=http://0.0.0.0:8000/api/parts/a8751a67-ce63-4308-81a7-e47712376782>a8751a67-ce63-4308-81a7-e47712376782</a></td></tr></table>"
      ],
      "text/plain": [
       "<kechain2.sets.PartSet at 0x7fde103def60>"
      ]
     },
     "execution_count": 49,
     "metadata": {},
     "output_type": "execute_result"
    }
   ],
   "source": [
    "kechain2.parts('Bike', category=None)"
   ]
  },
  {
   "cell_type": "code",
   "execution_count": 50,
   "metadata": {
    "collapsed": false
   },
   "outputs": [
    {
     "data": {
      "text/html": [
       "<table width=100%><caption>Frame</caption><tr><th>Property</th><th>Value</th></tr><tr><td>Material</td><td>Aluminum</td></tr><tr><td>Color</td><td>KE-works orange</td></tr></table>"
      ],
      "text/plain": [
       "<kechain2.models.Part at 0x7fde105edcf8>"
      ]
     },
     "execution_count": 50,
     "metadata": {},
     "output_type": "execute_result"
    }
   ],
   "source": [
    "project = kechain2.scope('Bike Project')\n",
    "project.part('Frame')"
   ]
  },
  {
   "cell_type": "code",
   "execution_count": 41,
   "metadata": {
    "collapsed": false
   },
   "outputs": [
    {
     "data": {
      "text/html": [
       "<table width=100%><tr><th>Part</th><th>ID</th></tr><tr><td>Front Wheel</td><td><a target='_blank' href=http://0.0.0.0:8000/api/parts/fe1b868a-894a-406f-a78d-33e57578a2e9>fe1b868a-894a-406f-a78d-33e57578a2e9</a></td></tr><tr><td>Rear Wheel</td><td><a target='_blank' href=http://0.0.0.0:8000/api/parts/6f773001-5b7e-452d-a46b-c98361170753>6f773001-5b7e-452d-a46b-c98361170753</a></td></tr><tr><td>Jochem</td><td><a target='_blank' href=http://0.0.0.0:8000/api/parts/d2801531-b0b8-43e8-8133-7dff3ed7adda>d2801531-b0b8-43e8-8133-7dff3ed7adda</a></td></tr><tr><td>Jochem</td><td><a target='_blank' href=http://0.0.0.0:8000/api/parts/0135319f-450e-4eaf-b144-d256b22ef308>0135319f-450e-4eaf-b144-d256b22ef308</a></td></tr><tr><td>Jochem</td><td><a target='_blank' href=http://0.0.0.0:8000/api/parts/ba6621c2-9115-4976-977b-8a4f74fd44b7>ba6621c2-9115-4976-977b-8a4f74fd44b7</a></td></tr><tr><td>Wheel</td><td><a target='_blank' href=http://0.0.0.0:8000/api/parts/bb755d13-d2fe-4a42-9b32-4c24941422a0>bb755d13-d2fe-4a42-9b32-4c24941422a0</a></td></tr></table>"
      ],
      "text/plain": [
       "<kechain2.sets.PartSet at 0x7fde100f99b0>"
      ]
     },
     "execution_count": 41,
     "metadata": {},
     "output_type": "execute_result"
    }
   ],
   "source": [
    "project.parts(model=project.model('Wheel'))"
   ]
  },
  {
   "cell_type": "code",
   "execution_count": 3,
   "metadata": {
    "collapsed": false
   },
   "outputs": [
    {
     "data": {
      "text/html": [
       "<table width=100%><caption>Bike</caption><tr><th>Property</th><th>Value</th></tr><tr style=\"\"><td>Gears</td><td>6</td></tr><tr style=\"\"><td>Total height</td><td>None</td></tr><tr style=\"\"><td>Picture</td><td>attachments/46172f2b-0345-4506-91a4-1b60eed98bf8/plot_N7kJ81v.png</td></tr><tr style=\"\"><td>Description</td><td>None</td></tr><tr style=\"\"><td>Expiring date</td><td>None</td></tr><tr style=\"\"><td>Website</td><td>None</td></tr><tr style=\"\"><td>Sale?</td><td>None</td></tr></table>"
      ],
      "text/plain": [
       "<kechain2.models.Part at 0x7fc47d888cf8>"
      ]
     },
     "metadata": {},
     "output_type": "display_data"
    },
    {
     "data": {
      "text/html": [
       "<table width=100%><caption>Front Fork</caption><tr><th>Property</th><th>Value</th></tr><tr style=\"color:blue;\"><td>Material</td><td>Aluminum</td></tr></table>"
      ],
      "text/plain": [
       "<kechain2.models.Part at 0x7fc47d888d30>"
      ]
     },
     "metadata": {},
     "output_type": "display_data"
    }
   ],
   "source": [
    "from IPython.display import display\n",
    "\n",
    "task = kechain2.activity(\"Specify wheel diameter\")\n",
    "\n",
    "for p in task.parts():        \n",
    "    display(p)"
   ]
  },
  {
   "cell_type": "code",
   "execution_count": 10,
   "metadata": {
    "collapsed": false
   },
   "outputs": [],
   "source": [
    "kechain2.properties('Diameter')[1].part.property('Spokes').value = 200"
   ]
  },
  {
   "cell_type": "code",
   "execution_count": 25,
   "metadata": {
    "collapsed": false,
    "scrolled": true
   },
   "outputs": [
    {
     "data": {
      "text/html": [
       "<table width=100%><caption>Wheel</caption><tr><th>Property</th><th>Value</th></tr><tr><td>Diameter</td><td>None</td></tr><tr><td>Spokes</td><td>None</td></tr><tr><td>Rim Material</td><td>None</td></tr><tr><td>Tire Thickness</td><td>None</td></tr></table>"
      ],
      "text/plain": [
       "<kechain2.models.Part at 0x7fde10047ac8>"
      ]
     },
     "execution_count": 25,
     "metadata": {},
     "output_type": "execute_result"
    }
   ],
   "source": [
    "wheel = kechain2.model('Wheel')\n",
    "bike = kechain2.part('Bike')\n",
    "\n",
    "bike.add(wheel)"
   ]
  },
  {
   "cell_type": "code",
   "execution_count": 28,
   "metadata": {
    "collapsed": true
   },
   "outputs": [],
   "source": [
    "import math\n",
    "import random\n",
    "\n",
    "wheel_model = kechain2.part(name='Wheel', category='MODEL')\n",
    "wheels = kechain2.parts(model=wheel_model)\n",
    "\n",
    "for wheel in wheels:\n",
    "    num_spokes = random.randint(1, 10)\n",
    "    noise = random.random() * 3\n",
    "    \n",
    "    wheel.property('Spokes').value = num_spokes\n",
    "    wheel.property('Diameter').value = 10 * math.sin(num_spokes) + noise"
   ]
  },
  {
   "cell_type": "code",
   "execution_count": 37,
   "metadata": {
    "collapsed": false,
    "scrolled": true
   },
   "outputs": [
    {
     "data": {
      "image/png": "[encoded data removed]",
      "text/plain": [
       "<matplotlib.figure.Figure at 0x7fde10283be0>"
      ]
     },
     "metadata": {},
     "output_type": "display_data"
    }
   ],
   "source": [
    "import matplotlib.pyplot as plt\n",
    "import numpy as np\n",
    "\n",
    "x = np.arange(1, 10, 0.01)\n",
    "y = 10 * np.sin(x)\n",
    "plt.plot(x, y)\n",
    "\n",
    "wheels = kechain2.parts(model=kechain2.model('Wheel'))\n",
    "plt.plot(wheels['Spokes'], wheels['Diameter'], 'd', markersize=10)\n",
    "\n",
    "plt.xlabel('Spokes')\n",
    "plt.ylabel('Diameter [cm]')\n",
    "plt.title('Spokes\\' Theorem')\n",
    "\n",
    "kechain2.part('Bike').property('Picture').value = plt.gcf()\n",
    "\n",
    "plt.show()"
   ]
  }
 ],
 "metadata": {
  "kernelspec": {
   "display_name": "Python 3",
   "language": "python",
   "name": "python3"
  },
  "language_info": {
   "codemirror_mode": {
    "name": "ipython",
    "version": 3
   },
   "file_extension": ".py",
   "mimetype": "text/x-python",
   "name": "python",
   "nbconvert_exporter": "python",
   "pygments_lexer": "ipython3",
   "version": "3.5.2"
  }
 },
 "nbformat": 4,
 "nbformat_minor": 2
}
