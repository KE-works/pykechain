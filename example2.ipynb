{
 "cells": [
  {
   "cell_type": "code",
   "execution_count": null,
   "metadata": {
    "collapsed": false
   },
   "outputs": [],
   "source": [
    "import sys\n",
    "\n",
    "def custom_exc(shell, etype, value, tb, tb_offset=None):\n",
    "    print(\"Problem: {}\".format(value), file=sys.stderr)\n",
    "    return None\n",
    "\n",
    "get_ipython().set_custom_exc((AssertionError,), custom_exc)"
   ]
  },
  {
   "cell_type": "code",
   "execution_count": 1,
   "metadata": {
    "collapsed": true
   },
   "outputs": [],
   "source": [
    "import kechain2\n",
    "\n",
    "kechain2.login(\"***REMOVED***\")"
   ]
  },
  {
   "cell_type": "code",
   "execution_count": 2,
   "metadata": {
    "collapsed": false
   },
   "outputs": [
    {
     "ename": "KeyError",
     "evalue": "'scopes'",
     "output_type": "error",
     "traceback": [
      "\u001b[0;31m---------------------------------------------------------------------------\u001b[0m",
      "\u001b[0;31mKeyError\u001b[0m                                  Traceback (most recent call last)",
      "\u001b[0;32m<ipython-input-2-8deda2b6fa95>\u001b[0m in \u001b[0;36m<module>\u001b[0;34m()\u001b[0m\n\u001b[0;32m----> 1\u001b[0;31m \u001b[0mkechain2\u001b[0m\u001b[0;34m.\u001b[0m\u001b[0mscopes\u001b[0m\u001b[0;34m(\u001b[0m\u001b[0;34m)\u001b[0m\u001b[0;34m\u001b[0m\u001b[0m\n\u001b[0m",
      "\u001b[0;32m/home/wilco/Development/jupyterlab/kechain2/api.py\u001b[0m in \u001b[0;36mscopes\u001b[0;34m(name, status)\u001b[0m\n\u001b[1;32m     27\u001b[0m \u001b[0;34m\u001b[0m\u001b[0m\n\u001b[1;32m     28\u001b[0m \u001b[0;32mdef\u001b[0m \u001b[0mscopes\u001b[0m\u001b[0;34m(\u001b[0m\u001b[0mname\u001b[0m\u001b[0;34m=\u001b[0m\u001b[0;32mNone\u001b[0m\u001b[0;34m,\u001b[0m \u001b[0mstatus\u001b[0m\u001b[0;34m=\u001b[0m\u001b[0;34m'ACTIVE'\u001b[0m\u001b[0;34m)\u001b[0m\u001b[0;34m:\u001b[0m\u001b[0;34m\u001b[0m\u001b[0m\n\u001b[0;32m---> 29\u001b[0;31m     r = session.get(api_url('scopes'), headers=HEADERS, params={\n\u001b[0m\u001b[1;32m     30\u001b[0m         \u001b[0;34m'name'\u001b[0m\u001b[0;34m:\u001b[0m \u001b[0mname\u001b[0m\u001b[0;34m,\u001b[0m\u001b[0;34m\u001b[0m\u001b[0m\n\u001b[1;32m     31\u001b[0m         \u001b[0;34m'status'\u001b[0m\u001b[0;34m:\u001b[0m \u001b[0mstatus\u001b[0m\u001b[0;34m\u001b[0m\u001b[0m\n",
      "\u001b[0;32m/home/wilco/Development/jupyterlab/kechain2/api.py\u001b[0m in \u001b[0;36mapi_url\u001b[0;34m(resource, **kwargs)\u001b[0m\n\u001b[1;32m     19\u001b[0m \u001b[0;34m\u001b[0m\u001b[0m\n\u001b[1;32m     20\u001b[0m \u001b[0;32mdef\u001b[0m \u001b[0mapi_url\u001b[0m\u001b[0;34m(\u001b[0m\u001b[0mresource\u001b[0m\u001b[0;34m,\u001b[0m \u001b[0;34m**\u001b[0m\u001b[0mkwargs\u001b[0m\u001b[0;34m)\u001b[0m\u001b[0;34m:\u001b[0m\u001b[0;34m\u001b[0m\u001b[0m\n\u001b[0;32m---> 21\u001b[0;31m     \u001b[0;32mreturn\u001b[0m \u001b[0mAPI_ROOT\u001b[0m \u001b[0;34m+\u001b[0m \u001b[0mAPI_PATH\u001b[0m\u001b[0;34m[\u001b[0m\u001b[0mresource\u001b[0m\u001b[0;34m]\u001b[0m\u001b[0;34m.\u001b[0m\u001b[0mformat\u001b[0m\u001b[0;34m(\u001b[0m\u001b[0;34m**\u001b[0m\u001b[0mkwargs\u001b[0m\u001b[0;34m)\u001b[0m\u001b[0;34m\u001b[0m\u001b[0m\n\u001b[0m\u001b[1;32m     22\u001b[0m \u001b[0;34m\u001b[0m\u001b[0m\n\u001b[1;32m     23\u001b[0m \u001b[0;34m\u001b[0m\u001b[0m\n",
      "\u001b[0;31mKeyError\u001b[0m: 'scopes'"
     ]
    }
   ],
   "source": [
    "kechain2.scopes()"
   ]
  },
  {
   "cell_type": "code",
   "execution_count": null,
   "metadata": {
    "collapsed": false
   },
   "outputs": [],
   "source": [
    "for part in kechain2.parts('Bike', category=None):\n",
    "    print(part.name, part.id)"
   ]
  },
  {
   "cell_type": "code",
   "execution_count": null,
   "metadata": {
    "collapsed": false
   },
   "outputs": [],
   "source": [
    "kechain2.part('Bike', category=None)"
   ]
  },
  {
   "cell_type": "code",
   "execution_count": null,
   "metadata": {
    "collapsed": false,
    "scrolled": true
   },
   "outputs": [],
   "source": [
    "kechain2.part('Bike').property('Gears').value"
   ]
  },
  {
   "cell_type": "code",
   "execution_count": null,
   "metadata": {
    "collapsed": false
   },
   "outputs": [],
   "source": [
    "w = kechain2.part('Front Wheel')\n",
    "g = w.property('Diameter')"
   ]
  },
  {
   "cell_type": "code",
   "execution_count": null,
   "metadata": {
    "collapsed": false
   },
   "outputs": [],
   "source": [
    "g.value"
   ]
  },
  {
   "cell_type": "code",
   "execution_count": null,
   "metadata": {
    "collapsed": false
   },
   "outputs": [],
   "source": [
    "kechain2.properties('Diameter')[1].part.property('Spokes').value = 100"
   ]
  },
  {
   "cell_type": "code",
   "execution_count": null,
   "metadata": {
    "collapsed": false
   },
   "outputs": [],
   "source": [
    "wheel_model = kechain2.part(name='Wheel', category='MODEL')\n",
    "wheels = kechain2.parts(model=wheel_model)\n",
    "\n",
    "import random\n",
    "\n",
    "for wheel in wheels:\n",
    "    wheel.property('Diameter').value = random.random() * 20\n",
    "    wheel.property('Spokes').value = random.randint(1, 100)"
   ]
  },
  {
   "cell_type": "code",
   "execution_count": null,
   "metadata": {
    "collapsed": false,
    "scrolled": false
   },
   "outputs": [],
   "source": [
    "import matplotlib.pyplot as plt\n",
    "import numpy as np\n",
    "x = np.arange(1, 10, 0.01)\n",
    "y = np.sin(x)\n",
    "\n",
    "plt.plot(x, y)\n",
    "\n",
    "kechain2.part('Bike').property('Picture').value = plt.gcf()\n",
    "\n",
    "plt.show()"
   ]
  },
  {
   "cell_type": "code",
   "execution_count": null,
   "metadata": {
    "collapsed": false,
    "scrolled": true
   },
   "outputs": [],
   "source": [
    "import kechain2\n",
    "wheel = kechain2.model('Wheel')\n",
    "bike = kechain2.part('Bike')\n",
    "\n",
    "w = bike.add(wheel, name='Jochem')\n",
    "w.property('Spokes').value = 10"
   ]
  },
  {
   "cell_type": "code",
   "execution_count": 6,
   "metadata": {
    "collapsed": false
   },
   "outputs": [],
   "source": [
    "kechain2.part('Jochem').property('Spokes').value = 13"
   ]
  },
  {
   "cell_type": "code",
   "execution_count": 4,
   "metadata": {
    "collapsed": false
   },
   "outputs": [
    {
     "data": {
      "text/html": [
       "<table width=100%><tr><th>Part</th><th>ID</th></tr><tr><td>Bike Project</td><td>766e9d34-81c0-4700-ada8-e4208541ca12</td></tr><tr><td>Product</td><td>02cc1d0e-45d8-48a5-9639-640f1294de32</td></tr><tr><td>Bike</td><td>d8d07338-40b6-4904-b4bd-9294fc8163cd</td></tr><tr><td>Frame</td><td>d23855be-9b5b-42d3-9c42-c0e1965db640</td></tr><tr><td>Front Fork</td><td>734ff833-50f0-464c-a5e6-5b6bc26c02d3</td></tr><tr><td>Seat</td><td>93c03a5f-4a40-42a8-a9fe-d2548e6e81e6</td></tr><tr><td>Front Wheel</td><td>ac4bb64d-729e-4884-b870-e82b7c22dd5c</td></tr><tr><td>Rear Wheel</td><td>cb5d244a-9431-401f-8e7e-5b4f125ca0f4</td></tr><tr><td>Wheel2</td><td>a49cb686-f73e-4ee1-8e05-e0951ef9bc7e</td></tr><tr><td>Wheel</td><td>e97ccb0f-4bf6-49ae-bd78-cac13b019e2c</td></tr><tr><td>Wheel</td><td>eb6d2d61-614c-48d6-b6b5-112fe497f64a</td></tr><tr><td>Wheel</td><td>ebab71ca-a670-444b-8a39-77bdb905ca28</td></tr><tr><td>Wheel</td><td>e6aa9aed-f954-4a83-8489-63a52cbe45a6</td></tr><tr><td>Wheel</td><td>ba68b16d-a5da-498a-a776-498ec8bd4512</td></tr><tr><td>MOH</td><td>94948aec-95d4-40d0-a07b-4e2cf2b783d5</td></tr><tr><td>Jochem</td><td>707db1d7-ade9-4a9a-8e90-ce07d2a5c84c</td></tr><tr><td>Catalog</td><td>1160ee20-fd37-4fb5-9361-42b095816d1c</td></tr><tr><td>Bike Project Template</td><td>c8b8fad6-e38a-4b64-9106-91cac4bb2f79</td></tr><tr><td>Product</td><td>b3014420-986a-4724-91fa-985b888c3dcc</td></tr><tr><td>Catalog</td><td>8e159549-3839-4f6e-b7f1-ab33e0441947</td></tr><tr><td>Library</td><td>349a082e-9e06-4e0e-b00e-c550fd260d2c</td></tr><tr><td>Catalog</td><td>7ebd507f-40ed-44eb-b5fe-5c1644ece6e8</td></tr><tr><td>Cannondale Project</td><td>e133d3ef-959f-4f8c-8755-e7d944de7096</td></tr><tr><td>Product</td><td>77be6095-823b-4196-bcfa-6f2ff264797b</td></tr><tr><td>Cannondale Bike</td><td>b8c8008e-4f49-4030-9490-fc80622ebb77</td></tr><tr><td>Catalog</td><td>07535e51-8d42-4f28-a0f3-4f7ce9207147</td></tr><tr><td>Cannondale Project Template</td><td>c38e37dc-f483-4c8d-87df-abf96dd51b8b</td></tr><tr><td>Product</td><td>9615d578-f84b-4f9d-8bd3-dc6f2185f1e5</td></tr><tr><td>Catalog</td><td>06a74f54-aa0c-491a-9fb2-aea9a4ef11cb</td></tr></table>"
      ],
      "text/plain": [
       "<kechain2.sets.PartSet at 0x7f76d51ebf60>"
      ]
     },
     "execution_count": 4,
     "metadata": {},
     "output_type": "execute_result"
    }
   ],
   "source": [
    "kechain2.parts()"
   ]
  }
 ],
 "metadata": {
  "kernelspec": {
   "display_name": "Python 3",
   "language": "python",
   "name": "python3"
  },
  "language_info": {
   "codemirror_mode": {
    "name": "ipython",
    "version": 3
   },
   "file_extension": ".py",
   "mimetype": "text/x-python",
   "name": "python",
   "nbconvert_exporter": "python",
   "pygments_lexer": "ipython3",
   "version": "3.5.2"
  }
 },
 "nbformat": 4,
 "nbformat_minor": 2
}
