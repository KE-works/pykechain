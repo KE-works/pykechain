{
 "cells": [
  {
   "cell_type": "code",
   "execution_count": null,
   "metadata": {
    "collapsed": false
   },
   "outputs": [],
   "source": [
    "import sys\n",
    "\n",
    "def custom_exc(shell, etype, value, tb, tb_offset=None):\n",
    "    print(\"Problem: {}\".format(value), file=sys.stderr)\n",
    "    return None\n",
    "\n",
    "get_ipython().set_custom_exc((AssertionError,), custom_exc)"
   ]
  },
  {
   "cell_type": "code",
   "execution_count": 1,
   "metadata": {
    "collapsed": true
   },
   "outputs": [],
   "source": [
    "import kechain2\n",
    "\n",
    "kechain2.login(\"***REMOVED***\")"
   ]
  },
  {
   "cell_type": "code",
   "execution_count": 4,
   "metadata": {
    "collapsed": false
   },
   "outputs": [
    {
     "data": {
      "text/html": [
       "<table width=100%><caption>Cannondale Bike</caption><tr><th>Property</th><th>Value</th></tr><tr><td>Description</td><td>The best cannondale bike</td></tr><tr><td>Chainring size</td><td>53</td></tr><tr><td>Largest cog size</td><td>28</td></tr><tr><td>Chain size</td><td>None</td></tr></table>"
      ],
      "text/plain": [
       "<kechain2.models.Part at 0x7f2e001f5390>"
      ]
     },
     "execution_count": 4,
     "metadata": {},
     "output_type": "execute_result"
    }
   ],
   "source": [
    "project = kechain2.scope('Cannondale Project')\n",
    "project.part('Cannondale Bike')"
   ]
  },
  {
   "cell_type": "code",
   "execution_count": null,
   "metadata": {
    "collapsed": false
   },
   "outputs": [],
   "source": [
    "for part in kechain2.parts('Bike', category=None):\n",
    "    print(part.name, part.id)"
   ]
  },
  {
   "cell_type": "code",
   "execution_count": null,
   "metadata": {
    "collapsed": false
   },
   "outputs": [],
   "source": [
    "kechain2.part('Bike', category=None)"
   ]
  },
  {
   "cell_type": "code",
   "execution_count": null,
   "metadata": {
    "collapsed": false,
    "scrolled": true
   },
   "outputs": [],
   "source": [
    "kechain2.part('Bike').property('Gears').value"
   ]
  },
  {
   "cell_type": "code",
   "execution_count": null,
   "metadata": {
    "collapsed": false
   },
   "outputs": [],
   "source": [
    "w = kechain2.part('Front Wheel')\n",
    "g = w.property('Diameter')"
   ]
  },
  {
   "cell_type": "code",
   "execution_count": null,
   "metadata": {
    "collapsed": false
   },
   "outputs": [],
   "source": [
    "g.value"
   ]
  },
  {
   "cell_type": "code",
   "execution_count": null,
   "metadata": {
    "collapsed": false
   },
   "outputs": [],
   "source": [
    "kechain2.properties('Diameter')[1].part.property('Spokes').value = 100"
   ]
  },
  {
   "cell_type": "code",
   "execution_count": null,
   "metadata": {
    "collapsed": false
   },
   "outputs": [],
   "source": [
    "wheel_model = kechain2.part(name='Wheel', category='MODEL')\n",
    "wheels = kechain2.parts(model=wheel_model)\n",
    "\n",
    "import random\n",
    "\n",
    "for wheel in wheels:\n",
    "    wheel.property('Diameter').value = random.random() * 20\n",
    "    wheel.property('Spokes').value = random.randint(1, 100)"
   ]
  },
  {
   "cell_type": "code",
   "execution_count": null,
   "metadata": {
    "collapsed": false,
    "scrolled": false
   },
   "outputs": [],
   "source": [
    "import matplotlib.pyplot as plt\n",
    "import numpy as np\n",
    "x = np.arange(1, 10, 0.01)\n",
    "y = np.sin(x)\n",
    "\n",
    "plt.plot(x, y)\n",
    "\n",
    "kechain2.part('Bike').property('Picture').value = plt.gcf()\n",
    "\n",
    "plt.show()"
   ]
  },
  {
   "cell_type": "code",
   "execution_count": null,
   "metadata": {
    "collapsed": false,
    "scrolled": true
   },
   "outputs": [],
   "source": [
    "import kechain2\n",
    "wheel = kechain2.model('Wheel')\n",
    "bike = kechain2.part('Bike')\n",
    "\n",
    "w = bike.add(wheel, name='Jochem')\n",
    "w.property('Spokes').value = 10"
   ]
  },
  {
   "cell_type": "code",
   "execution_count": 6,
   "metadata": {
    "collapsed": false
   },
   "outputs": [],
   "source": [
    "kechain2.part('Jochem').property('Spokes').value = 13"
   ]
  },
  {
   "cell_type": "code",
   "execution_count": 2,
   "metadata": {
    "collapsed": false
   },
   "outputs": [
    {
     "data": {
      "text/html": [
       "<table width=100%><tr><th>Part</th><th>ID</th></tr><tr><td>Bike Project</td><td><a target='_blank' href=http://0.0.0.0:8000/api/parts/766e9d34-81c0-4700-ada8-e4208541ca12>766e9d34-81c0-4700-ada8-e4208541ca12</a></td></tr><tr><td>Product</td><td><a target='_blank' href=http://0.0.0.0:8000/api/parts/02cc1d0e-45d8-48a5-9639-640f1294de32>02cc1d0e-45d8-48a5-9639-640f1294de32</a></td></tr><tr><td>Bike</td><td><a target='_blank' href=http://0.0.0.0:8000/api/parts/d8d07338-40b6-4904-b4bd-9294fc8163cd>d8d07338-40b6-4904-b4bd-9294fc8163cd</a></td></tr><tr><td>Frame</td><td><a target='_blank' href=http://0.0.0.0:8000/api/parts/d23855be-9b5b-42d3-9c42-c0e1965db640>d23855be-9b5b-42d3-9c42-c0e1965db640</a></td></tr><tr><td>Front Fork</td><td><a target='_blank' href=http://0.0.0.0:8000/api/parts/734ff833-50f0-464c-a5e6-5b6bc26c02d3>734ff833-50f0-464c-a5e6-5b6bc26c02d3</a></td></tr><tr><td>Seat</td><td><a target='_blank' href=http://0.0.0.0:8000/api/parts/93c03a5f-4a40-42a8-a9fe-d2548e6e81e6>93c03a5f-4a40-42a8-a9fe-d2548e6e81e6</a></td></tr><tr><td>Front Wheel</td><td><a target='_blank' href=http://0.0.0.0:8000/api/parts/ac4bb64d-729e-4884-b870-e82b7c22dd5c>ac4bb64d-729e-4884-b870-e82b7c22dd5c</a></td></tr><tr><td>Rear Wheel</td><td><a target='_blank' href=http://0.0.0.0:8000/api/parts/cb5d244a-9431-401f-8e7e-5b4f125ca0f4>cb5d244a-9431-401f-8e7e-5b4f125ca0f4</a></td></tr><tr><td>Wheel2</td><td><a target='_blank' href=http://0.0.0.0:8000/api/parts/a49cb686-f73e-4ee1-8e05-e0951ef9bc7e>a49cb686-f73e-4ee1-8e05-e0951ef9bc7e</a></td></tr><tr><td>Wheel</td><td><a target='_blank' href=http://0.0.0.0:8000/api/parts/eb6d2d61-614c-48d6-b6b5-112fe497f64a>eb6d2d61-614c-48d6-b6b5-112fe497f64a</a></td></tr><tr><td>Wheel</td><td><a target='_blank' href=http://0.0.0.0:8000/api/parts/ebab71ca-a670-444b-8a39-77bdb905ca28>ebab71ca-a670-444b-8a39-77bdb905ca28</a></td></tr><tr><td>Wheel</td><td><a target='_blank' href=http://0.0.0.0:8000/api/parts/e6aa9aed-f954-4a83-8489-63a52cbe45a6>e6aa9aed-f954-4a83-8489-63a52cbe45a6</a></td></tr><tr><td>Wheel</td><td><a target='_blank' href=http://0.0.0.0:8000/api/parts/ba68b16d-a5da-498a-a776-498ec8bd4512>ba68b16d-a5da-498a-a776-498ec8bd4512</a></td></tr><tr><td>MOH</td><td><a target='_blank' href=http://0.0.0.0:8000/api/parts/94948aec-95d4-40d0-a07b-4e2cf2b783d5>94948aec-95d4-40d0-a07b-4e2cf2b783d5</a></td></tr><tr><td>Jochem</td><td><a target='_blank' href=http://0.0.0.0:8000/api/parts/707db1d7-ade9-4a9a-8e90-ce07d2a5c84c>707db1d7-ade9-4a9a-8e90-ce07d2a5c84c</a></td></tr><tr><td>MOH</td><td><a target='_blank' href=http://0.0.0.0:8000/api/parts/8245d17a-21a6-4358-9181-406f4831911c>8245d17a-21a6-4358-9181-406f4831911c</a></td></tr><tr><td>Catalog</td><td><a target='_blank' href=http://0.0.0.0:8000/api/parts/1160ee20-fd37-4fb5-9361-42b095816d1c>1160ee20-fd37-4fb5-9361-42b095816d1c</a></td></tr><tr><td>Bike Project Template</td><td><a target='_blank' href=http://0.0.0.0:8000/api/parts/c8b8fad6-e38a-4b64-9106-91cac4bb2f79>c8b8fad6-e38a-4b64-9106-91cac4bb2f79</a></td></tr><tr><td>Product</td><td><a target='_blank' href=http://0.0.0.0:8000/api/parts/b3014420-986a-4724-91fa-985b888c3dcc>b3014420-986a-4724-91fa-985b888c3dcc</a></td></tr><tr><td>Catalog</td><td><a target='_blank' href=http://0.0.0.0:8000/api/parts/8e159549-3839-4f6e-b7f1-ab33e0441947>8e159549-3839-4f6e-b7f1-ab33e0441947</a></td></tr><tr><td>Library</td><td><a target='_blank' href=http://0.0.0.0:8000/api/parts/349a082e-9e06-4e0e-b00e-c550fd260d2c>349a082e-9e06-4e0e-b00e-c550fd260d2c</a></td></tr><tr><td>Catalog</td><td><a target='_blank' href=http://0.0.0.0:8000/api/parts/7ebd507f-40ed-44eb-b5fe-5c1644ece6e8>7ebd507f-40ed-44eb-b5fe-5c1644ece6e8</a></td></tr><tr><td>Cannondale Project</td><td><a target='_blank' href=http://0.0.0.0:8000/api/parts/e133d3ef-959f-4f8c-8755-e7d944de7096>e133d3ef-959f-4f8c-8755-e7d944de7096</a></td></tr><tr><td>Product</td><td><a target='_blank' href=http://0.0.0.0:8000/api/parts/77be6095-823b-4196-bcfa-6f2ff264797b>77be6095-823b-4196-bcfa-6f2ff264797b</a></td></tr><tr><td>Cannondale Bike</td><td><a target='_blank' href=http://0.0.0.0:8000/api/parts/b8c8008e-4f49-4030-9490-fc80622ebb77>b8c8008e-4f49-4030-9490-fc80622ebb77</a></td></tr><tr><td>Catalog</td><td><a target='_blank' href=http://0.0.0.0:8000/api/parts/07535e51-8d42-4f28-a0f3-4f7ce9207147>07535e51-8d42-4f28-a0f3-4f7ce9207147</a></td></tr><tr><td>Cannondale Project Template</td><td><a target='_blank' href=http://0.0.0.0:8000/api/parts/c38e37dc-f483-4c8d-87df-abf96dd51b8b>c38e37dc-f483-4c8d-87df-abf96dd51b8b</a></td></tr><tr><td>Product</td><td><a target='_blank' href=http://0.0.0.0:8000/api/parts/9615d578-f84b-4f9d-8bd3-dc6f2185f1e5>9615d578-f84b-4f9d-8bd3-dc6f2185f1e5</a></td></tr><tr><td>Catalog</td><td><a target='_blank' href=http://0.0.0.0:8000/api/parts/06a74f54-aa0c-491a-9fb2-aea9a4ef11cb>06a74f54-aa0c-491a-9fb2-aea9a4ef11cb</a></td></tr></table>"
      ],
      "text/plain": [
       "<kechain2.sets.PartSet at 0x7f246ac24940>"
      ]
     },
     "execution_count": 2,
     "metadata": {},
     "output_type": "execute_result"
    }
   ],
   "source": [
    "kechain2.parts()"
   ]
  },
  {
   "cell_type": "code",
   "execution_count": 22,
   "metadata": {
    "collapsed": false,
    "scrolled": false
   },
   "outputs": [
    {
     "data": {
      "text/html": [
       "<table width=100%><caption>MOH</caption><tr><th>Property</th><th>Value</th></tr><tr><td>Diameter</td><td>None</td></tr><tr><td>Spokes</td><td>None</td></tr><tr><td>Rim Material</td><td>None</td></tr><tr><td>Tire Thickness</td><td>None</td></tr></table>"
      ],
      "text/plain": [
       "<kechain2.models.Part at 0x7f2dfde172e8>"
      ]
     },
     "execution_count": 22,
     "metadata": {},
     "output_type": "execute_result"
    }
   ],
   "source": [
    "import kechain2\n",
    "\n",
    "project = kechain2.scope('Bike Project')\n",
    "bike = project.part('Bike')\n",
    "wheel = project.part('Wheel', category='MODEL')\n",
    "\n",
    "bike.add_new(wheel, name='MOH')\n",
    "wheel. "
   ]
  }
 ],
 "metadata": {
  "kernelspec": {
   "display_name": "Python 3",
   "language": "python",
   "name": "python3"
  },
  "language_info": {
   "codemirror_mode": {
    "name": "ipython",
    "version": 3
   },
   "file_extension": ".py",
   "mimetype": "text/x-python",
   "name": "python",
   "nbconvert_exporter": "python",
   "pygments_lexer": "ipython3",
   "version": "3.5.2"
  }
 },
 "nbformat": 4,
 "nbformat_minor": 2
}
