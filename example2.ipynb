{
 "cells": [
  {
   "cell_type": "code",
   "execution_count": 15,
   "metadata": {
    "collapsed": false
   },
   "outputs": [
    {
     "ename": "LoginRequiredError",
     "evalue": "Authentication credentials were not provided.",
     "traceback": [
      "\u001b[0;31m---------------------------------------------------------------------------\u001b[0m",
      "\u001b[0;31mLoginRequiredError\u001b[0m                        Traceback (most recent call last)",
      "\u001b[0;32m<ipython-input-15-059c153b4119>\u001b[0m in \u001b[0;36m<module>\u001b[0;34m()\u001b[0m\n\u001b[1;32m      2\u001b[0m \u001b[0;34m\u001b[0m\u001b[0m\n\u001b[1;32m      3\u001b[0m \u001b[0mc\u001b[0m \u001b[0;34m=\u001b[0m \u001b[0mkechain2\u001b[0m\u001b[0;34m.\u001b[0m\u001b[0mclient\u001b[0m\u001b[0;34m.\u001b[0m\u001b[0mClient\u001b[0m\u001b[0;34m(\u001b[0m\u001b[0;34m)\u001b[0m\u001b[0;34m\u001b[0m\u001b[0m\n\u001b[0;32m----> 4\u001b[0;31m \u001b[0mc\u001b[0m\u001b[0;34m.\u001b[0m\u001b[0mparts\u001b[0m\u001b[0;34m(\u001b[0m\u001b[0;34m)\u001b[0m\u001b[0;34m\u001b[0m\u001b[0m\n\u001b[0m",
      "\u001b[0;32m/home/wilco/Development/jupyterlab/kechain2/client.py\u001b[0m in \u001b[0;36mparts\u001b[0;34m(self, name, pk, model, category, bucket, activity)\u001b[0m\n\u001b[1;32m    112\u001b[0m             \u001b[0;34m'category'\u001b[0m\u001b[0;34m:\u001b[0m \u001b[0mcategory\u001b[0m\u001b[0;34m,\u001b[0m\u001b[0;34m\u001b[0m\u001b[0m\n\u001b[1;32m    113\u001b[0m             \u001b[0;34m'bucket'\u001b[0m\u001b[0;34m:\u001b[0m \u001b[0mbucket\u001b[0m\u001b[0;34m,\u001b[0m\u001b[0;34m\u001b[0m\u001b[0m\n\u001b[0;32m--> 114\u001b[0;31m             \u001b[0;34m'activity_id'\u001b[0m\u001b[0;34m:\u001b[0m \u001b[0mactivity\u001b[0m\u001b[0;34m\u001b[0m\u001b[0m\n\u001b[0m\u001b[1;32m    115\u001b[0m         })\n\u001b[1;32m    116\u001b[0m \u001b[0;34m\u001b[0m\u001b[0m\n",
      "\u001b[0;32m/home/wilco/Development/jupyterlab/kechain2/client.py\u001b[0m in \u001b[0;36m_request\u001b[0;34m(self, method, url, **kwargs)\u001b[0m\n\u001b[1;32m     51\u001b[0m \u001b[0;34m\u001b[0m\u001b[0m\n\u001b[1;32m     52\u001b[0m         \u001b[0;32mif\u001b[0m \u001b[0mr\u001b[0m\u001b[0;34m.\u001b[0m\u001b[0mstatus_code\u001b[0m \u001b[0;34m==\u001b[0m \u001b[0;36m403\u001b[0m\u001b[0;34m:\u001b[0m\u001b[0;34m\u001b[0m\u001b[0m\n\u001b[0;32m---> 53\u001b[0;31m             \u001b[0;32mraise\u001b[0m \u001b[0mLoginRequiredError\u001b[0m\u001b[0;34m(\u001b[0m\u001b[0mr\u001b[0m\u001b[0;34m.\u001b[0m\u001b[0mjson\u001b[0m\u001b[0;34m(\u001b[0m\u001b[0;34m)\u001b[0m\u001b[0;34m[\u001b[0m\u001b[0;34m'results'\u001b[0m\u001b[0;34m]\u001b[0m\u001b[0;34m[\u001b[0m\u001b[0;36m0\u001b[0m\u001b[0;34m]\u001b[0m\u001b[0;34m[\u001b[0m\u001b[0;34m'detail'\u001b[0m\u001b[0;34m]\u001b[0m\u001b[0;34m)\u001b[0m\u001b[0;34m\u001b[0m\u001b[0m\n\u001b[0m\u001b[1;32m     54\u001b[0m \u001b[0;34m\u001b[0m\u001b[0m\n\u001b[1;32m     55\u001b[0m         \u001b[0;32mreturn\u001b[0m \u001b[0mr\u001b[0m\u001b[0;34m\u001b[0m\u001b[0m\n",
      "\u001b[0;31mLoginRequiredError\u001b[0m: Authentication credentials were not provided."
     ],
     "output_type": "error"
    }
   ],
   "source": [
    "import kechain2.client\n",
    "\n",
    "c = kechain2.client.Client()\n",
    "c.parts()"
   ]
  },
  {
   "cell_type": "code",
   "execution_count": 4,
   "metadata": {
    "collapsed": false
   },
   "outputs": [
    {
     "data": {
      "text/html": [
       "<table width=100%><tr><th>Part</th><th>ID</th></tr><tr><td>Bike Project</td><td>73c78109-4a34-463b-8823-3fc734b26218</td></tr><tr><td>Product</td><td>ed261cc2-e417-414a-aef5-946df8817b29</td></tr><tr><td>Bike</td><td>a8751a67-ce63-4308-81a7-e47712376782</td></tr><tr><td>Frame</td><td>bf369bb8-b649-4bc9-ba7a-f35e357f4711</td></tr><tr><td>Front Fork</td><td>2fcec18c-dd4d-4cd4-89d8-3db04147c30f</td></tr><tr><td>Seat</td><td>7ede1e33-e224-41a0-87a0-6a5f151991b3</td></tr><tr><td>Front Wheel</td><td>fe1b868a-894a-406f-a78d-33e57578a2e9</td></tr><tr><td>Rear Wheel</td><td>6f773001-5b7e-452d-a46b-c98361170753</td></tr><tr><td>Joost</td><td>ed7e2afe-5599-4f9c-8872-fc7e2baa0fff</td></tr><tr><td>Catalog</td><td>a6882108-1f1a-4d93-9702-a9f40bc753db</td></tr><tr><td>Bike Project Template</td><td>0ffcae96-a679-4f3a-afd9-8f8ec068790a</td></tr><tr><td>Product</td><td>0f6e9bab-a931-4182-bea2-04f56f8a62af</td></tr><tr><td>Catalog</td><td>6caeacc4-15cd-4bfd-8802-430a6bc33372</td></tr><tr><td>Library</td><td>23abc5c8-cb24-4d9e-8f30-d510c31a23b3</td></tr><tr><td>Catalog</td><td>e8ea0c89-029b-471f-a855-293887e30ea9</td></tr><tr><td>Cannondale Project</td><td>b25f2963-91d6-4eb4-861d-56064e7171d7</td></tr><tr><td>Product</td><td>9cb19969-1470-4b81-b2a9-28208f819b82</td></tr><tr><td>Cannondale Bike</td><td>431099e2-42ab-4479-8d77-c33824ac2b98</td></tr><tr><td>Catalog</td><td>cde8311e-69da-4bc6-bf34-81d19ac787c3</td></tr><tr><td>Cannondale Project Template</td><td>47892460-8922-4f99-a7da-858d0c3baf1a</td></tr><tr><td>Product</td><td>4cbe273e-48d0-4d31-946d-7b7eef96c386</td></tr><tr><td>Catalog</td><td>f0a954f2-77fd-47f4-b9e5-a02348a4ce1e</td></tr></table>"
      ],
      "text/plain": [
       "<kechain2.sets.PartSet at 0x7f12882eea20>"
      ]
     },
     "execution_count": 4,
     "metadata": {},
     "output_type": "execute_result"
    }
   ],
   "source": [
    "import kechain2.client\n",
    "\n",
    "c = kechain2.client.Client()\n",
    "c.login('admin', 'pass')\n",
    "c.parts()"
   ]
  },
  {
   "cell_type": "code",
   "execution_count": 14,
   "metadata": {
    "collapsed": false,
    "scrolled": false
   },
   "outputs": [
    {
     "data": {
      "text/html": [
       "<table width=100%><caption>test-wheel</caption><tr><th>Property</th><th>Value</th></tr><tr style=\"color:blue;\"><td>Diameter</td><td>None</td></tr><tr style=\"color:blue;\"><td>Spokes</td><td>None</td></tr><tr style=\"color:blue;\"><td>Rim Material</td><td>None</td></tr><tr style=\"color:blue;\"><td>Tire Thickness</td><td>None</td></tr></table>"
      ],
      "text/plain": [
       "<kechain2.models.part.Part at 0x7f1285e6e4e0>"
      ]
     },
     "execution_count": 14,
     "metadata": {},
     "output_type": "execute_result"
    }
   ],
   "source": [
    "from kechain2 import Client\n",
    "\n",
    "c = Client()\n",
    "c.login(token=\"e920094902818b26feb4fac3dfa2904fff88649c\")\n",
    "bike = c.part('Bike')\n",
    "wheel = c.model('Wheel')\n",
    "\n",
    "bike.add(wheel, name='test-wheel')"
   ]
  },
  {
   "cell_type": "code",
   "execution_count": 6,
   "metadata": {
    "collapsed": false
   },
   "outputs": [],
   "source": [
    "for p in c.parts('test-wheel'):\n",
    "    p.delete()"
   ]
  },
  {
   "cell_type": "code",
   "execution_count": 7,
   "metadata": {
    "collapsed": false
   },
   "outputs": [],
   "source": [
    "from kechain2.api import client as kec\n",
    "kec.login(token=\"e920094902818b26feb4fac3dfa2904fff88649c\")\n",
    "\n",
    "front_wheel = kec.part('Front Wheel')\n",
    "diameter = front_wheel.property('Diameter')\n",
    "diameter.value = 100"
   ]
  },
  {
   "cell_type": "code",
   "execution_count": 8,
   "metadata": {
    "collapsed": false,
    "scrolled": true
   },
   "outputs": [
    {
     "data": {
      "text/plain": [
       "99999"
      ]
     },
     "execution_count": 8,
     "metadata": {},
     "output_type": "execute_result"
    }
   ],
   "source": [
    "kec.part('Bike').property('Gears').value"
   ]
  },
  {
   "cell_type": "code",
   "execution_count": 9,
   "metadata": {
    "collapsed": false,
    "scrolled": true
   },
   "outputs": [
    {
     "data": {
      "text/html": [
       "<table width=100%><tr><th>Part</th><th>Category</th><th>ID</th></tr><tr><td>Bike</td><td>MODEL</td><td>df504613-7bca-428a-974f-e1f8aee933f3</td></tr><tr><td>Bike</td><td>INSTANCE</td><td>a8751a67-ce63-4308-81a7-e47712376782</td></tr></table>"
      ],
      "text/plain": [
       "<kechain2.sets.PartSet at 0x7f1288295048>"
      ]
     },
     "execution_count": 9,
     "metadata": {},
     "output_type": "execute_result"
    }
   ],
   "source": [
    "kec.parts('Bike', category=None)"
   ]
  },
  {
   "cell_type": "code",
   "execution_count": 10,
   "metadata": {
    "collapsed": false
   },
   "outputs": [
    {
     "data": {
      "text/html": [
       "<table width=100%><caption>Frame</caption><tr><th>Property</th><th>Value</th></tr><tr style=\"color:blue;\"><td>Material</td><td>Aluminum</td></tr><tr style=\"color:blue;\"><td>Color</td><td>KE-works orange2</td></tr></table>"
      ],
      "text/plain": [
       "<kechain2.models.part.Part at 0x7f1288307ac8>"
      ]
     },
     "execution_count": 10,
     "metadata": {},
     "output_type": "execute_result"
    }
   ],
   "source": [
    "project = kec.scope('Bike Project')\n",
    "project.part('Frame')"
   ]
  },
  {
   "cell_type": "code",
   "execution_count": 15,
   "metadata": {
    "collapsed": false
   },
   "outputs": [
    {
     "data": {
      "text/html": [
       "<table width=100%><tr><th>Part</th><th>ID</th></tr><tr><td>Front Wheel</td><td>fe1b868a-894a-406f-a78d-33e57578a2e9</td></tr><tr><td>Rear Wheel</td><td>6f773001-5b7e-452d-a46b-c98361170753</td></tr><tr><td>Wheel</td><td>0a9f15e1-2942-4d85-b5e0-bf06b324ba1e</td></tr><tr><td>Wheel</td><td>4241e502-bcfa-4360-a477-08fe6ec56b33</td></tr><tr><td>Wheel</td><td>c3d0f780-fd2c-44a4-a410-4a6bdc1131aa</td></tr><tr><td>Wheel</td><td>bfa88a9a-077b-43d9-af25-281576b13ca6</td></tr><tr><td>Joost</td><td>ed7e2afe-5599-4f9c-8872-fc7e2baa0fff</td></tr><tr><td>HOI</td><td>4383acfa-8296-4ac1-8f29-b3eb32eecc99</td></tr><tr><td>HOI</td><td>cec98e16-7f0e-4c59-9439-1a6d977f7255</td></tr></table>"
      ],
      "text/plain": [
       "<kechain2.sets.PartSet at 0x7feac873d7f0>"
      ]
     },
     "execution_count": 15,
     "metadata": {},
     "output_type": "execute_result"
    }
   ],
   "source": [
    "project.parts(model=project.model('Wheel'))"
   ]
  },
  {
   "cell_type": "code",
   "execution_count": 16,
   "metadata": {
    "collapsed": false
   },
   "outputs": [
    {
     "data": {
      "text/html": [
       "<table width=100%><caption>Bike</caption><tr><th>Property</th><th>Value</th></tr><tr style=\"\"><td>Gears</td><td>99999</td></tr><tr style=\"\"><td>Total height</td><td>None</td></tr><tr style=\"\"><td>Picture</td><td>attachments/46172f2b-0345-4506-91a4-1b60eed98bf8/plot_ro87pr0.png</td></tr><tr style=\"\"><td>Description</td><td>You see Joost</td></tr><tr style=\"\"><td>Expiring date</td><td>None</td></tr><tr style=\"\"><td>Website</td><td>None</td></tr><tr style=\"\"><td>Sale?</td><td>True</td></tr></table>"
      ],
      "text/plain": [
       "<kechain2.models.part.Part at 0x7feac87333c8>"
      ]
     },
     "metadata": {},
     "output_type": "execute_result"
    },
    {
     "data": {
      "text/html": [
       "<table width=100%><caption>Front Fork</caption><tr><th>Property</th><th>Value</th></tr><tr style=\"color:blue;\"><td>Material</td><td>Aluminum</td></tr></table>"
      ],
      "text/plain": [
       "<kechain2.models.part.Part at 0x7feac8724a58>"
      ]
     },
     "metadata": {},
     "output_type": "execute_result"
    }
   ],
   "source": [
    "from IPython.display import display\n",
    "\n",
    "task = kec.activity(\"Specify wheel diameter\")\n",
    "\n",
    "for p in task.parts():        \n",
    "    display(p)"
   ]
  },
  {
   "cell_type": "code",
   "execution_count": 2,
   "metadata": {
    "collapsed": false
   },
   "outputs": [],
   "source": [
    "kec.properties('Diameter')[1].part.property('Spokes').value = 200"
   ]
  },
  {
   "cell_type": "code",
   "execution_count": 4,
   "metadata": {
    "collapsed": false,
    "scrolled": true
   },
   "outputs": [
    {
     "data": {
      "text/html": [
       "<table width=100%><caption>Wheel</caption><tr><th>Property</th><th>Value</th></tr><tr style=\"color:blue;\"><td>Diameter</td><td>None</td></tr><tr style=\"color:blue;\"><td>Spokes</td><td>None</td></tr><tr style=\"color:blue;\"><td>Rim Material</td><td>None</td></tr><tr style=\"color:blue;\"><td>Tire Thickness</td><td>None</td></tr></table>"
      ],
      "text/plain": [
       "<kechain2.models.part.Part at 0x7fdd593bb940>"
      ]
     },
     "execution_count": 4,
     "metadata": {},
     "output_type": "execute_result"
    }
   ],
   "source": [
    "wheel = kec.model('Wheel')\n",
    "bike = kec.part('Bike')\n",
    "\n",
    "bike.add(wheel)"
   ]
  },
  {
   "cell_type": "code",
   "execution_count": 12,
   "metadata": {
    "collapsed": false
   },
   "outputs": [],
   "source": [
    "import math\n",
    "import random\n",
    "\n",
    "wheel_model = kec.part(name='Wheel', category='MODEL')\n",
    "wheels = kec.parts(model=wheel_model)\n",
    "\n",
    "for wheel in wheels:\n",
    "    num_spokes = random.randint(1, 10)\n",
    "    noise = random.random() * 3\n",
    "    \n",
    "    wheel.property('Spokes').value = num_spokes\n",
    "    wheel.property('Diameter').value = 10 * math.sin(num_spokes) + noise"
   ]
  },
  {
   "cell_type": "code",
   "execution_count": 13,
   "metadata": {
    "collapsed": false,
    "scrolled": true
   },
   "outputs": [
    {
     "data": {
      "image/png": "[encoded data removed]",
      "text/plain": [
       "<matplotlib.figure.Figure at 0x7f12883034e0>"
      ]
     },
     "metadata": {},
     "output_type": "display_data"
    }
   ],
   "source": [
    "import matplotlib.pyplot as plt\n",
    "import numpy as np\n",
    "\n",
    "x = np.arange(1, 10, 0.01)\n",
    "y = 10 * np.sin(x)\n",
    "plt.plot(x, y)\n",
    "\n",
    "wheels = kec.parts(model=kec.model('Wheel'))\n",
    "plt.plot(wheels['Spokes'], wheels['Diameter'], 'd', markersize=10)\n",
    "\n",
    "plt.xlabel('Spokes')\n",
    "plt.ylabel('Diameter [cm]')\n",
    "plt.title('Spokes\\' Theorem')\n",
    "\n",
    "kec.part('Bike').property('Picture').value = plt.gcf()\n",
    "\n",
    "plt.show()"
   ]
  }
 ],
 "metadata": {
  "kernelspec": {
   "display_name": "Python 3",
   "language": "python",
   "name": "python3"
  },
  "language_info": {
   "codemirror_mode": {
    "name": "ipython",
    "version": 3.0
   },
   "file_extension": ".py",
   "mimetype": "text/x-python",
   "name": "python",
   "nbconvert_exporter": "python",
   "pygments_lexer": "ipython3",
   "version": "3.5.2"
  }
 },
 "nbformat": 4,
 "nbformat_minor": 0
}