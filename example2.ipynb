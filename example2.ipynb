{
 "cells": [
  {
   "cell_type": "code",
   "execution_count": 1,
   "metadata": {
    "collapsed": false
   },
   "outputs": [],
   "source": [
    "import sys\n",
    "\n",
    "def custom_exc(shell, etype, value, tb, tb_offset=None):\n",
    "    print(\"Problem: {}\".format(value), file=sys.stderr)\n",
    "    return None\n",
    "\n",
    "get_ipython().set_custom_exc((AssertionError,), custom_exc)"
   ]
  },
  {
   "cell_type": "code",
   "execution_count": 2,
   "metadata": {
    "collapsed": true
   },
   "outputs": [],
   "source": [
    "import kechain2"
   ]
  },
  {
   "cell_type": "code",
   "execution_count": 3,
   "metadata": {
    "collapsed": false
   },
   "outputs": [
    {
     "data": {
      "text/plain": [
       "[<kechain2.models.Part at 0x7fa8ed254da0>,\n",
       " <kechain2.models.Part at 0x7fa8ed254dd8>,\n",
       " <kechain2.models.Part at 0x7fa8ed254e10>,\n",
       " <kechain2.models.Part at 0x7fa8ed254e48>,\n",
       " <kechain2.models.Part at 0x7fa8ed259048>,\n",
       " <kechain2.models.Part at 0x7fa8ed2590f0>,\n",
       " <kechain2.models.Part at 0x7fa8ed2591d0>,\n",
       " <kechain2.models.Part at 0x7fa8ed259240>,\n",
       " <kechain2.models.Part at 0x7fa8ed259358>,\n",
       " <kechain2.models.Part at 0x7fa8ed259470>,\n",
       " <kechain2.models.Part at 0x7fa8ed2594a8>,\n",
       " <kechain2.models.Part at 0x7fa8ed2594e0>,\n",
       " <kechain2.models.Part at 0x7fa8ed259518>,\n",
       " <kechain2.models.Part at 0x7fa8ed259550>,\n",
       " <kechain2.models.Part at 0x7fa8ed259588>,\n",
       " <kechain2.models.Part at 0x7fa8ed2595c0>,\n",
       " <kechain2.models.Part at 0x7fa8ed2595f8>,\n",
       " <kechain2.models.Part at 0x7fa8ed259630>,\n",
       " <kechain2.models.Part at 0x7fa8ed259748>,\n",
       " <kechain2.models.Part at 0x7fa8ed259780>,\n",
       " <kechain2.models.Part at 0x7fa8ed2597b8>]"
      ]
     },
     "execution_count": 3,
     "metadata": {},
     "output_type": "execute_result"
    }
   ],
   "source": [
    "kechain2.parts(category='INSTANCE')"
   ]
  },
  {
   "cell_type": "code",
   "execution_count": 10,
   "metadata": {
    "collapsed": false
   },
   "outputs": [
    {
     "data": {
      "text/plain": [
       "3"
      ]
     },
     "execution_count": 10,
     "metadata": {},
     "output_type": "execute_result"
    }
   ],
   "source": [
    "kechain2.part('Bike').property('Gears').value"
   ]
  },
  {
   "cell_type": "code",
   "execution_count": 5,
   "metadata": {
    "collapsed": false
   },
   "outputs": [],
   "source": [
    "kechain2.properties('Diameter')[0].value = 30"
   ]
  },
  {
   "cell_type": "code",
   "execution_count": null,
   "metadata": {
    "collapsed": true
   },
   "outputs": [],
   "source": []
  }
 ],
 "metadata": {
  "kernelspec": {
   "display_name": "Python 3",
   "language": "python",
   "name": "python3"
  },
  "language_info": {
   "codemirror_mode": {
    "name": "ipython",
    "version": 3
   },
   "file_extension": ".py",
   "mimetype": "text/x-python",
   "name": "python",
   "nbconvert_exporter": "python",
   "pygments_lexer": "ipython3",
   "version": "3.5.2"
  }
 },
 "nbformat": 4,
 "nbformat_minor": 2
}
