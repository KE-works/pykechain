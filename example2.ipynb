{
 "cells": [
  {
   "cell_type": "code",
   "execution_count": null,
   "metadata": {
    "collapsed": false
   },
   "outputs": [],
   "source": [
    "import sys\n",
    "\n",
    "def custom_exc(shell, etype, value, tb, tb_offset=None):\n",
    "    print(\"Problem: {}\".format(value), file=sys.stderr)\n",
    "    return None\n",
    "\n",
    "get_ipython().set_custom_exc((AssertionError,), custom_exc)"
   ]
  },
  {
   "cell_type": "code",
   "execution_count": null,
   "metadata": {
    "collapsed": false
   },
   "outputs": [],
   "source": [
    "import kechain2.client\n",
    "\n",
    "c = kechain2.client.Client()\n",
    "c.parts()"
   ]
  },
  {
   "cell_type": "code",
   "execution_count": null,
   "metadata": {
    "collapsed": false
   },
   "outputs": [],
   "source": [
    "import kechain2.client\n",
    "\n",
    "c = kechain2.client.Client()\n",
    "c.login('admin', 'pass')\n",
    "c.parts()"
   ]
  },
  {
   "cell_type": "code",
   "execution_count": 1,
   "metadata": {
    "collapsed": false,
    "scrolled": false
   },
   "outputs": [
    {
     "data": {
      "text/html": [
       "<table width=100%><caption>HOI</caption><tr><th>Property</th><th>Value</th></tr><tr style=\"color:blue;\"><td>Diameter</td><td>None</td></tr><tr style=\"color:blue;\"><td>Spokes</td><td>None</td></tr><tr style=\"color:blue;\"><td>Rim Material</td><td>None</td></tr><tr style=\"color:blue;\"><td>Tire Thickness</td><td>None</td></tr></table>"
      ],
      "text/plain": [
       "<kechain2.models.part.Part at 0x7f42eb47c390>"
      ]
     },
     "execution_count": 1,
     "metadata": {},
     "output_type": "execute_result"
    }
   ],
   "source": [
    "from kechain2 import Client\n",
    "\n",
    "c = Client()\n",
    "c.login(token=\"e920094902818b26feb4fac3dfa2904fff88649c\")\n",
    "bike = c.part('Bike')\n",
    "wheel = c.model('Wheel')\n",
    "\n",
    "bike.add(wheel, name='HOI')"
   ]
  },
  {
   "cell_type": "code",
   "execution_count": 1,
   "metadata": {
    "collapsed": false,
    "scrolled": true
   },
   "outputs": [
    {
     "data": {
      "text/html": [
       "<table width=100%><tr><th>Part</th><th>ID</th></tr><tr><td>Bike Project</td><td>73c78109-4a34-463b-8823-3fc734b26218</td></tr><tr><td>Product</td><td>ed261cc2-e417-414a-aef5-946df8817b29</td></tr><tr><td>Bike</td><td>a8751a67-ce63-4308-81a7-e47712376782</td></tr><tr><td>Frame</td><td>bf369bb8-b649-4bc9-ba7a-f35e357f4711</td></tr><tr><td>Front Fork</td><td>2fcec18c-dd4d-4cd4-89d8-3db04147c30f</td></tr><tr><td>Seat</td><td>7ede1e33-e224-41a0-87a0-6a5f151991b3</td></tr><tr><td>Front Wheel</td><td>fe1b868a-894a-406f-a78d-33e57578a2e9</td></tr><tr><td>Rear Wheel</td><td>6f773001-5b7e-452d-a46b-c98361170753</td></tr><tr><td>Wheel</td><td>0a9f15e1-2942-4d85-b5e0-bf06b324ba1e</td></tr><tr><td>Wheel</td><td>4241e502-bcfa-4360-a477-08fe6ec56b33</td></tr><tr><td>Wheel</td><td>c3d0f780-fd2c-44a4-a410-4a6bdc1131aa</td></tr><tr><td>Wheel</td><td>bfa88a9a-077b-43d9-af25-281576b13ca6</td></tr><tr><td>Joost</td><td>ed7e2afe-5599-4f9c-8872-fc7e2baa0fff</td></tr><tr><td>Catalog</td><td>a6882108-1f1a-4d93-9702-a9f40bc753db</td></tr><tr><td>Bike Project Template</td><td>0ffcae96-a679-4f3a-afd9-8f8ec068790a</td></tr><tr><td>Product</td><td>0f6e9bab-a931-4182-bea2-04f56f8a62af</td></tr><tr><td>Catalog</td><td>6caeacc4-15cd-4bfd-8802-430a6bc33372</td></tr><tr><td>Library</td><td>23abc5c8-cb24-4d9e-8f30-d510c31a23b3</td></tr><tr><td>Catalog</td><td>e8ea0c89-029b-471f-a855-293887e30ea9</td></tr><tr><td>Cannondale Project</td><td>b25f2963-91d6-4eb4-861d-56064e7171d7</td></tr><tr><td>Product</td><td>9cb19969-1470-4b81-b2a9-28208f819b82</td></tr><tr><td>Cannondale Bike</td><td>431099e2-42ab-4479-8d77-c33824ac2b98</td></tr><tr><td>Catalog</td><td>cde8311e-69da-4bc6-bf34-81d19ac787c3</td></tr><tr><td>Cannondale Project Template</td><td>47892460-8922-4f99-a7da-858d0c3baf1a</td></tr><tr><td>Product</td><td>4cbe273e-48d0-4d31-946d-7b7eef96c386</td></tr><tr><td>Catalog</td><td>f0a954f2-77fd-47f4-b9e5-a02348a4ce1e</td></tr></table>"
      ],
      "text/plain": [
       "<kechain2.sets.PartSet at 0x7f103c7ba588>"
      ]
     },
     "execution_count": 1,
     "metadata": {},
     "output_type": "execute_result"
    }
   ],
   "source": [
    "from kechain2 import kec\n",
    "\n",
    "kec.login(token=\"e920094902818b26feb4fac3dfa2904fff88649c\")\n",
    "kec.parts()"
   ]
  },
  {
   "cell_type": "code",
   "execution_count": null,
   "metadata": {
    "collapsed": false
   },
   "outputs": [],
   "source": [
    "front_wheel = kechain2.part('Front Wheel')\n",
    "diameter = front_wheel.property('Diameter')\n",
    "diameter.value = 100"
   ]
  },
  {
   "cell_type": "code",
   "execution_count": null,
   "metadata": {
    "collapsed": false,
    "scrolled": true
   },
   "outputs": [],
   "source": [
    "kechain2.part('Bike').property('Gears').value"
   ]
  },
  {
   "cell_type": "code",
   "execution_count": null,
   "metadata": {
    "collapsed": false,
    "scrolled": true
   },
   "outputs": [],
   "source": [
    "kechain2.parts('Bike', category=None)"
   ]
  },
  {
   "cell_type": "code",
   "execution_count": null,
   "metadata": {
    "collapsed": false
   },
   "outputs": [],
   "source": [
    "from kechain2.api import client\n",
    "\n",
    "project = client.scope('Bike Project')\n",
    "project.part('Frame')"
   ]
  },
  {
   "cell_type": "code",
   "execution_count": null,
   "metadata": {
    "collapsed": false
   },
   "outputs": [],
   "source": [
    "project.parts(model=project.model('Wheel'))"
   ]
  },
  {
   "cell_type": "code",
   "execution_count": null,
   "metadata": {
    "collapsed": false
   },
   "outputs": [],
   "source": [
    "from IPython.display import display\n",
    "\n",
    "task = kechain2.activity(\"Specify wheel diameter\")\n",
    "\n",
    "for p in task.parts():        \n",
    "    display(p)"
   ]
  },
  {
   "cell_type": "code",
   "execution_count": null,
   "metadata": {
    "collapsed": false
   },
   "outputs": [],
   "source": [
    "kechain2.properties('Diameter')[1].part.property('Spokes').value = 200"
   ]
  },
  {
   "cell_type": "code",
   "execution_count": null,
   "metadata": {
    "collapsed": false,
    "scrolled": true
   },
   "outputs": [],
   "source": [
    "wheel = kechain2.model('Wheel')\n",
    "bike = kechain2.part('Bike')\n",
    "\n",
    "bike.add(wheel)"
   ]
  },
  {
   "cell_type": "code",
   "execution_count": null,
   "metadata": {
    "collapsed": false
   },
   "outputs": [],
   "source": [
    "import math\n",
    "import random\n",
    "\n",
    "wheel_model = kechain2.part(name='Wheel', category='MODEL')\n",
    "wheels = kechain2.parts(model=wheel_model)\n",
    "\n",
    "for wheel in wheels:\n",
    "    num_spokes = random.randint(1, 10)\n",
    "    noise = random.random() * 3\n",
    "    \n",
    "    wheel.property('Spokes').value = num_spokes\n",
    "    wheel.property('Diameter').value = 10 * math.sin(num_spokes) + noise"
   ]
  },
  {
   "cell_type": "code",
   "execution_count": null,
   "metadata": {
    "collapsed": false,
    "scrolled": true
   },
   "outputs": [],
   "source": [
    "import matplotlib.pyplot as plt\n",
    "import numpy as np\n",
    "\n",
    "x = np.arange(1, 10, 0.01)\n",
    "y = 10 * np.sin(x)\n",
    "plt.plot(x, y)\n",
    "\n",
    "#wheels = kechain2.parts(model=kechain2.model('Wheel'))\n",
    "#plt.plot(wheels['Spokes'], wheels['Diameter'], 'd', markersize=10)\n",
    "\n",
    "plt.xlabel('Spokes')\n",
    "plt.ylabel('Diameter [cm]')\n",
    "plt.title('Spokes\\' Theorem')\n",
    "\n",
    "kechain2.part('Bike').property('Picture').value = plt.gcf()\n",
    "\n",
    "plt.show()"
   ]
  },
  {
   "cell_type": "code",
   "execution_count": null,
   "metadata": {
    "collapsed": false
   },
   "outputs": [],
   "source": [
    "wheels = kechain2.parts(model=kechain2.model('Wheel'))\n",
    "\n",
    "wheels.values('Diameter')"
   ]
  }
 ],
 "metadata": {
  "kernelspec": {
   "display_name": "Python 3",
   "language": "python",
   "name": "python3"
  },
  "language_info": {
   "codemirror_mode": {
    "name": "ipython",
    "version": 3
   },
   "file_extension": ".py",
   "mimetype": "text/x-python",
   "name": "python",
   "nbconvert_exporter": "python",
   "pygments_lexer": "ipython3",
   "version": "3.5.2"
  }
 },
 "nbformat": 4,
 "nbformat_minor": 0
}
