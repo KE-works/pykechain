{
 "cells": [
  {
   "cell_type": "code",
   "execution_count": null,
   "metadata": {
    "collapsed": false
   },
   "outputs": [],
   "source": [
    "import sys\n",
    "\n",
    "def custom_exc(shell, etype, value, tb, tb_offset=None):\n",
    "    print(\"Problem: {}\".format(value), file=sys.stderr)\n",
    "    return None\n",
    "\n",
    "get_ipython().set_custom_exc((AssertionError,), custom_exc)"
   ]
  },
  {
   "cell_type": "code",
   "execution_count": 1,
   "metadata": {
    "collapsed": false,
    "scrolled": true
   },
   "outputs": [
    {
     "data": {
      "text/html": [
       "<table width=100%><tr><th>Part</th><th>ID</th></tr><tr><td>Bike Project</td><td><a target='_blank' href=http://localhost:8000/api/parts/73c78109-4a34-463b-8823-3fc734b26218>73c78109-4a34-463b-8823-3fc734b26218</a></td></tr><tr><td>Product</td><td><a target='_blank' href=http://localhost:8000/api/parts/ed261cc2-e417-414a-aef5-946df8817b29>ed261cc2-e417-414a-aef5-946df8817b29</a></td></tr><tr><td>Bike</td><td><a target='_blank' href=http://localhost:8000/api/parts/a8751a67-ce63-4308-81a7-e47712376782>a8751a67-ce63-4308-81a7-e47712376782</a></td></tr><tr><td>Frame</td><td><a target='_blank' href=http://localhost:8000/api/parts/bf369bb8-b649-4bc9-ba7a-f35e357f4711>bf369bb8-b649-4bc9-ba7a-f35e357f4711</a></td></tr><tr><td>Front Fork</td><td><a target='_blank' href=http://localhost:8000/api/parts/2fcec18c-dd4d-4cd4-89d8-3db04147c30f>2fcec18c-dd4d-4cd4-89d8-3db04147c30f</a></td></tr><tr><td>Seat</td><td><a target='_blank' href=http://localhost:8000/api/parts/7ede1e33-e224-41a0-87a0-6a5f151991b3>7ede1e33-e224-41a0-87a0-6a5f151991b3</a></td></tr><tr><td>Front Wheel</td><td><a target='_blank' href=http://localhost:8000/api/parts/fe1b868a-894a-406f-a78d-33e57578a2e9>fe1b868a-894a-406f-a78d-33e57578a2e9</a></td></tr><tr><td>Rear Wheel</td><td><a target='_blank' href=http://localhost:8000/api/parts/6f773001-5b7e-452d-a46b-c98361170753>6f773001-5b7e-452d-a46b-c98361170753</a></td></tr><tr><td>Jochem</td><td><a target='_blank' href=http://localhost:8000/api/parts/d2801531-b0b8-43e8-8133-7dff3ed7adda>d2801531-b0b8-43e8-8133-7dff3ed7adda</a></td></tr><tr><td>Jochem</td><td><a target='_blank' href=http://localhost:8000/api/parts/0135319f-450e-4eaf-b144-d256b22ef308>0135319f-450e-4eaf-b144-d256b22ef308</a></td></tr><tr><td>Jochem</td><td><a target='_blank' href=http://localhost:8000/api/parts/ba6621c2-9115-4976-977b-8a4f74fd44b7>ba6621c2-9115-4976-977b-8a4f74fd44b7</a></td></tr><tr><td>Wheel</td><td><a target='_blank' href=http://localhost:8000/api/parts/bb755d13-d2fe-4a42-9b32-4c24941422a0>bb755d13-d2fe-4a42-9b32-4c24941422a0</a></td></tr><tr><td>Wheel</td><td><a target='_blank' href=http://localhost:8000/api/parts/0a9f15e1-2942-4d85-b5e0-bf06b324ba1e>0a9f15e1-2942-4d85-b5e0-bf06b324ba1e</a></td></tr><tr><td>Wheel</td><td><a target='_blank' href=http://localhost:8000/api/parts/e7f45d7d-3bb6-4acf-b185-8297e397d8cc>e7f45d7d-3bb6-4acf-b185-8297e397d8cc</a></td></tr><tr><td>Test</td><td><a target='_blank' href=http://localhost:8000/api/parts/2afecd84-9a48-4735-a5ad-671a24484168>2afecd84-9a48-4735-a5ad-671a24484168</a></td></tr><tr><td>Wheel</td><td><a target='_blank' href=http://localhost:8000/api/parts/4241e502-bcfa-4360-a477-08fe6ec56b33>4241e502-bcfa-4360-a477-08fe6ec56b33</a></td></tr><tr><td>Catalog</td><td><a target='_blank' href=http://localhost:8000/api/parts/a6882108-1f1a-4d93-9702-a9f40bc753db>a6882108-1f1a-4d93-9702-a9f40bc753db</a></td></tr><tr><td>Bike Project Template</td><td><a target='_blank' href=http://localhost:8000/api/parts/0ffcae96-a679-4f3a-afd9-8f8ec068790a>0ffcae96-a679-4f3a-afd9-8f8ec068790a</a></td></tr><tr><td>Product</td><td><a target='_blank' href=http://localhost:8000/api/parts/0f6e9bab-a931-4182-bea2-04f56f8a62af>0f6e9bab-a931-4182-bea2-04f56f8a62af</a></td></tr><tr><td>Catalog</td><td><a target='_blank' href=http://localhost:8000/api/parts/6caeacc4-15cd-4bfd-8802-430a6bc33372>6caeacc4-15cd-4bfd-8802-430a6bc33372</a></td></tr><tr><td>Library</td><td><a target='_blank' href=http://localhost:8000/api/parts/23abc5c8-cb24-4d9e-8f30-d510c31a23b3>23abc5c8-cb24-4d9e-8f30-d510c31a23b3</a></td></tr><tr><td>Catalog</td><td><a target='_blank' href=http://localhost:8000/api/parts/e8ea0c89-029b-471f-a855-293887e30ea9>e8ea0c89-029b-471f-a855-293887e30ea9</a></td></tr><tr><td>Cannondale Project</td><td><a target='_blank' href=http://localhost:8000/api/parts/b25f2963-91d6-4eb4-861d-56064e7171d7>b25f2963-91d6-4eb4-861d-56064e7171d7</a></td></tr><tr><td>Product</td><td><a target='_blank' href=http://localhost:8000/api/parts/9cb19969-1470-4b81-b2a9-28208f819b82>9cb19969-1470-4b81-b2a9-28208f819b82</a></td></tr><tr><td>Cannondale Bike</td><td><a target='_blank' href=http://localhost:8000/api/parts/431099e2-42ab-4479-8d77-c33824ac2b98>431099e2-42ab-4479-8d77-c33824ac2b98</a></td></tr><tr><td>Catalog</td><td><a target='_blank' href=http://localhost:8000/api/parts/cde8311e-69da-4bc6-bf34-81d19ac787c3>cde8311e-69da-4bc6-bf34-81d19ac787c3</a></td></tr><tr><td>Cannondale Project Template</td><td><a target='_blank' href=http://localhost:8000/api/parts/47892460-8922-4f99-a7da-858d0c3baf1a>47892460-8922-4f99-a7da-858d0c3baf1a</a></td></tr><tr><td>Product</td><td><a target='_blank' href=http://localhost:8000/api/parts/4cbe273e-48d0-4d31-946d-7b7eef96c386>4cbe273e-48d0-4d31-946d-7b7eef96c386</a></td></tr><tr><td>Catalog</td><td><a target='_blank' href=http://localhost:8000/api/parts/f0a954f2-77fd-47f4-b9e5-a02348a4ce1e>f0a954f2-77fd-47f4-b9e5-a02348a4ce1e</a></td></tr></table>"
      ],
      "text/plain": [
       "<kechain2.sets.PartSet at 0x7f69125c6cc0>"
      ]
     },
     "execution_count": 1,
     "metadata": {},
     "output_type": "execute_result"
    }
   ],
   "source": [
    "import kechain2.client\n",
    "\n",
    "c = kechain2.client.Client()\n",
    "c.login(\"e920094902818b26feb4fac3dfa2904fff88649c\")\n",
    "c.parts()"
   ]
  },
  {
   "cell_type": "code",
   "execution_count": 2,
   "metadata": {
    "collapsed": false,
    "scrolled": true
   },
   "outputs": [
    {
     "data": {
      "text/html": [
       "<table width=100%><tr><th>Part</th><th>ID</th></tr><tr><td>Bike Project</td><td><a target='_blank' href=http://localhost:8000/api/parts/73c78109-4a34-463b-8823-3fc734b26218>73c78109-4a34-463b-8823-3fc734b26218</a></td></tr><tr><td>Product</td><td><a target='_blank' href=http://localhost:8000/api/parts/ed261cc2-e417-414a-aef5-946df8817b29>ed261cc2-e417-414a-aef5-946df8817b29</a></td></tr><tr><td>Bike</td><td><a target='_blank' href=http://localhost:8000/api/parts/a8751a67-ce63-4308-81a7-e47712376782>a8751a67-ce63-4308-81a7-e47712376782</a></td></tr><tr><td>Frame</td><td><a target='_blank' href=http://localhost:8000/api/parts/bf369bb8-b649-4bc9-ba7a-f35e357f4711>bf369bb8-b649-4bc9-ba7a-f35e357f4711</a></td></tr><tr><td>Front Fork</td><td><a target='_blank' href=http://localhost:8000/api/parts/2fcec18c-dd4d-4cd4-89d8-3db04147c30f>2fcec18c-dd4d-4cd4-89d8-3db04147c30f</a></td></tr><tr><td>Seat</td><td><a target='_blank' href=http://localhost:8000/api/parts/7ede1e33-e224-41a0-87a0-6a5f151991b3>7ede1e33-e224-41a0-87a0-6a5f151991b3</a></td></tr><tr><td>Front Wheel</td><td><a target='_blank' href=http://localhost:8000/api/parts/fe1b868a-894a-406f-a78d-33e57578a2e9>fe1b868a-894a-406f-a78d-33e57578a2e9</a></td></tr><tr><td>Rear Wheel</td><td><a target='_blank' href=http://localhost:8000/api/parts/6f773001-5b7e-452d-a46b-c98361170753>6f773001-5b7e-452d-a46b-c98361170753</a></td></tr><tr><td>Jochem</td><td><a target='_blank' href=http://localhost:8000/api/parts/d2801531-b0b8-43e8-8133-7dff3ed7adda>d2801531-b0b8-43e8-8133-7dff3ed7adda</a></td></tr><tr><td>Jochem</td><td><a target='_blank' href=http://localhost:8000/api/parts/0135319f-450e-4eaf-b144-d256b22ef308>0135319f-450e-4eaf-b144-d256b22ef308</a></td></tr><tr><td>Jochem</td><td><a target='_blank' href=http://localhost:8000/api/parts/ba6621c2-9115-4976-977b-8a4f74fd44b7>ba6621c2-9115-4976-977b-8a4f74fd44b7</a></td></tr><tr><td>Wheel</td><td><a target='_blank' href=http://localhost:8000/api/parts/bb755d13-d2fe-4a42-9b32-4c24941422a0>bb755d13-d2fe-4a42-9b32-4c24941422a0</a></td></tr><tr><td>Wheel</td><td><a target='_blank' href=http://localhost:8000/api/parts/0a9f15e1-2942-4d85-b5e0-bf06b324ba1e>0a9f15e1-2942-4d85-b5e0-bf06b324ba1e</a></td></tr><tr><td>Wheel</td><td><a target='_blank' href=http://localhost:8000/api/parts/e7f45d7d-3bb6-4acf-b185-8297e397d8cc>e7f45d7d-3bb6-4acf-b185-8297e397d8cc</a></td></tr><tr><td>Test</td><td><a target='_blank' href=http://localhost:8000/api/parts/2afecd84-9a48-4735-a5ad-671a24484168>2afecd84-9a48-4735-a5ad-671a24484168</a></td></tr><tr><td>Wheel</td><td><a target='_blank' href=http://localhost:8000/api/parts/4241e502-bcfa-4360-a477-08fe6ec56b33>4241e502-bcfa-4360-a477-08fe6ec56b33</a></td></tr><tr><td>Catalog</td><td><a target='_blank' href=http://localhost:8000/api/parts/a6882108-1f1a-4d93-9702-a9f40bc753db>a6882108-1f1a-4d93-9702-a9f40bc753db</a></td></tr><tr><td>Bike Project Template</td><td><a target='_blank' href=http://localhost:8000/api/parts/0ffcae96-a679-4f3a-afd9-8f8ec068790a>0ffcae96-a679-4f3a-afd9-8f8ec068790a</a></td></tr><tr><td>Product</td><td><a target='_blank' href=http://localhost:8000/api/parts/0f6e9bab-a931-4182-bea2-04f56f8a62af>0f6e9bab-a931-4182-bea2-04f56f8a62af</a></td></tr><tr><td>Catalog</td><td><a target='_blank' href=http://localhost:8000/api/parts/6caeacc4-15cd-4bfd-8802-430a6bc33372>6caeacc4-15cd-4bfd-8802-430a6bc33372</a></td></tr><tr><td>Library</td><td><a target='_blank' href=http://localhost:8000/api/parts/23abc5c8-cb24-4d9e-8f30-d510c31a23b3>23abc5c8-cb24-4d9e-8f30-d510c31a23b3</a></td></tr><tr><td>Catalog</td><td><a target='_blank' href=http://localhost:8000/api/parts/e8ea0c89-029b-471f-a855-293887e30ea9>e8ea0c89-029b-471f-a855-293887e30ea9</a></td></tr><tr><td>Cannondale Project</td><td><a target='_blank' href=http://localhost:8000/api/parts/b25f2963-91d6-4eb4-861d-56064e7171d7>b25f2963-91d6-4eb4-861d-56064e7171d7</a></td></tr><tr><td>Product</td><td><a target='_blank' href=http://localhost:8000/api/parts/9cb19969-1470-4b81-b2a9-28208f819b82>9cb19969-1470-4b81-b2a9-28208f819b82</a></td></tr><tr><td>Cannondale Bike</td><td><a target='_blank' href=http://localhost:8000/api/parts/431099e2-42ab-4479-8d77-c33824ac2b98>431099e2-42ab-4479-8d77-c33824ac2b98</a></td></tr><tr><td>Catalog</td><td><a target='_blank' href=http://localhost:8000/api/parts/cde8311e-69da-4bc6-bf34-81d19ac787c3>cde8311e-69da-4bc6-bf34-81d19ac787c3</a></td></tr><tr><td>Cannondale Project Template</td><td><a target='_blank' href=http://localhost:8000/api/parts/47892460-8922-4f99-a7da-858d0c3baf1a>47892460-8922-4f99-a7da-858d0c3baf1a</a></td></tr><tr><td>Product</td><td><a target='_blank' href=http://localhost:8000/api/parts/4cbe273e-48d0-4d31-946d-7b7eef96c386>4cbe273e-48d0-4d31-946d-7b7eef96c386</a></td></tr><tr><td>Catalog</td><td><a target='_blank' href=http://localhost:8000/api/parts/f0a954f2-77fd-47f4-b9e5-a02348a4ce1e>f0a954f2-77fd-47f4-b9e5-a02348a4ce1e</a></td></tr></table>"
      ],
      "text/plain": [
       "<kechain2.sets.PartSet at 0x7f6912572240>"
      ]
     },
     "execution_count": 2,
     "metadata": {},
     "output_type": "execute_result"
    }
   ],
   "source": [
    "import kechain2\n",
    "\n",
    "kechain2.login(\"e920094902818b26feb4fac3dfa2904fff88649c\")\n",
    "kechain2.parts()"
   ]
  },
  {
   "cell_type": "code",
   "execution_count": 1,
   "metadata": {
    "collapsed": false
   },
   "outputs": [],
   "source": [
    "import kechain2\n",
    "\n",
    "kechain2.login(\"e920094902818b26feb4fac3dfa2904fff88649c\")"
   ]
  },
  {
   "cell_type": "code",
   "execution_count": 2,
   "metadata": {
    "collapsed": false
   },
   "outputs": [],
   "source": [
    "front_wheel = kechain2.part('Front Wheel')\n",
    "diameter = front_wheel.property('Diameter')\n",
    "diameter.value = 20"
   ]
  },
  {
   "cell_type": "code",
   "execution_count": 3,
   "metadata": {
    "collapsed": false,
    "scrolled": true
   },
   "outputs": [
    {
     "data": {
      "text/plain": [
       "6"
      ]
     },
     "execution_count": 3,
     "metadata": {},
     "output_type": "execute_result"
    }
   ],
   "source": [
    "kechain2.part('Bike').property('Gears').value"
   ]
  },
  {
   "cell_type": "code",
   "execution_count": 4,
   "metadata": {
    "collapsed": false,
    "scrolled": true
   },
   "outputs": [
    {
     "data": {
      "text/html": [
       "<table width=100%><tr><th>Part</th><th>Category</th><th>ID</th></tr><tr><td>Bike</td><td>MODEL</td><td><a target='_blank' href=http://0.0.0.0:8000/api/parts/df504613-7bca-428a-974f-e1f8aee933f3>df504613-7bca-428a-974f-e1f8aee933f3</a></td></tr><tr><td>Bike</td><td>INSTANCE</td><td><a target='_blank' href=http://0.0.0.0:8000/api/parts/a8751a67-ce63-4308-81a7-e47712376782>a8751a67-ce63-4308-81a7-e47712376782</a></td></tr></table>"
      ],
      "text/plain": [
       "<kechain2.sets.PartSet at 0x7f5c46e09198>"
      ]
     },
     "execution_count": 4,
     "metadata": {},
     "output_type": "execute_result"
    }
   ],
   "source": [
    "kechain2.parts('Bike', category=None)"
   ]
  },
  {
   "cell_type": "code",
   "execution_count": 5,
   "metadata": {
    "collapsed": false
   },
   "outputs": [
    {
     "data": {
      "text/html": [
       "<table width=100%><caption>Frame</caption><tr><th>Property</th><th>Value</th></tr><tr style=\"color:blue;\"><td>Material</td><td>Aluminum</td></tr><tr style=\"color:blue;\"><td>Color</td><td>KE-works orange</td></tr></table>"
      ],
      "text/plain": [
       "<kechain2.models.part.Part at 0x7f5c46e0e1d0>"
      ]
     },
     "execution_count": 5,
     "metadata": {},
     "output_type": "execute_result"
    }
   ],
   "source": [
    "project = kechain2.scope('Bike Project')\n",
    "project.part('Frame')"
   ]
  },
  {
   "cell_type": "code",
   "execution_count": 16,
   "metadata": {
    "collapsed": false
   },
   "outputs": [
    {
     "data": {
      "text/html": [
       "<table width=100%><tr><th>Part</th><th>ID</th></tr><tr><td>Front Wheel</td><td><a target='_blank' href=http://0.0.0.0:8000/api/parts/fe1b868a-894a-406f-a78d-33e57578a2e9>fe1b868a-894a-406f-a78d-33e57578a2e9</a></td></tr><tr><td>Rear Wheel</td><td><a target='_blank' href=http://0.0.0.0:8000/api/parts/6f773001-5b7e-452d-a46b-c98361170753>6f773001-5b7e-452d-a46b-c98361170753</a></td></tr><tr><td>Jochem</td><td><a target='_blank' href=http://0.0.0.0:8000/api/parts/d2801531-b0b8-43e8-8133-7dff3ed7adda>d2801531-b0b8-43e8-8133-7dff3ed7adda</a></td></tr><tr><td>Jochem</td><td><a target='_blank' href=http://0.0.0.0:8000/api/parts/0135319f-450e-4eaf-b144-d256b22ef308>0135319f-450e-4eaf-b144-d256b22ef308</a></td></tr><tr><td>Jochem</td><td><a target='_blank' href=http://0.0.0.0:8000/api/parts/ba6621c2-9115-4976-977b-8a4f74fd44b7>ba6621c2-9115-4976-977b-8a4f74fd44b7</a></td></tr><tr><td>Wheel</td><td><a target='_blank' href=http://0.0.0.0:8000/api/parts/bb755d13-d2fe-4a42-9b32-4c24941422a0>bb755d13-d2fe-4a42-9b32-4c24941422a0</a></td></tr><tr><td>Wheel</td><td><a target='_blank' href=http://0.0.0.0:8000/api/parts/0a9f15e1-2942-4d85-b5e0-bf06b324ba1e>0a9f15e1-2942-4d85-b5e0-bf06b324ba1e</a></td></tr><tr><td>Wheel</td><td><a target='_blank' href=http://0.0.0.0:8000/api/parts/e7f45d7d-3bb6-4acf-b185-8297e397d8cc>e7f45d7d-3bb6-4acf-b185-8297e397d8cc</a></td></tr><tr><td>Test</td><td><a target='_blank' href=http://0.0.0.0:8000/api/parts/2afecd84-9a48-4735-a5ad-671a24484168>2afecd84-9a48-4735-a5ad-671a24484168</a></td></tr><tr><td>Wheel</td><td><a target='_blank' href=http://0.0.0.0:8000/api/parts/4241e502-bcfa-4360-a477-08fe6ec56b33>4241e502-bcfa-4360-a477-08fe6ec56b33</a></td></tr></table>"
      ],
      "text/plain": [
       "<kechain2.sets.PartSet at 0x7f5c44a35b38>"
      ]
     },
     "execution_count": 16,
     "metadata": {},
     "output_type": "execute_result"
    }
   ],
   "source": [
    "project.parts(model=project.model('Wheel'))"
   ]
  },
  {
   "cell_type": "code",
   "execution_count": 7,
   "metadata": {
    "collapsed": false
   },
   "outputs": [
    {
     "data": {
      "text/html": [
       "<table width=100%><caption>Bike</caption><tr><th>Property</th><th>Value</th></tr><tr style=\"\"><td>Gears</td><td>6</td></tr><tr style=\"\"><td>Total height</td><td>None</td></tr><tr style=\"\"><td>Picture</td><td>attachments/46172f2b-0345-4506-91a4-1b60eed98bf8/plot_N7kJ81v.png</td></tr><tr style=\"\"><td>Description</td><td>None</td></tr><tr style=\"\"><td>Expiring date</td><td>None</td></tr><tr style=\"\"><td>Website</td><td>None</td></tr><tr style=\"\"><td>Sale?</td><td>None</td></tr></table>"
      ],
      "text/plain": [
       "<kechain2.models.part.Part at 0x7f5c46e216a0>"
      ]
     },
     "metadata": {},
     "output_type": "display_data"
    },
    {
     "data": {
      "text/html": [
       "<table width=100%><caption>Front Fork</caption><tr><th>Property</th><th>Value</th></tr><tr style=\"color:blue;\"><td>Material</td><td>Aluminum</td></tr></table>"
      ],
      "text/plain": [
       "<kechain2.models.part.Part at 0x7f5c46e216d8>"
      ]
     },
     "metadata": {},
     "output_type": "display_data"
    }
   ],
   "source": [
    "from IPython.display import display\n",
    "\n",
    "task = kechain2.activity(\"Specify wheel diameter\")\n",
    "\n",
    "for p in task.parts():        \n",
    "    display(p)"
   ]
  },
  {
   "cell_type": "code",
   "execution_count": 8,
   "metadata": {
    "collapsed": false
   },
   "outputs": [],
   "source": [
    "kechain2.properties('Diameter')[1].part.property('Spokes').value = 200"
   ]
  },
  {
   "cell_type": "code",
   "execution_count": 13,
   "metadata": {
    "collapsed": false,
    "scrolled": true
   },
   "outputs": [
    {
     "data": {
      "text/html": [
       "<table width=100%><caption>Wheel</caption><tr><th>Property</th><th>Value</th></tr><tr style=\"color:blue;\"><td>Diameter</td><td>None</td></tr><tr style=\"color:blue;\"><td>Spokes</td><td>None</td></tr><tr style=\"color:blue;\"><td>Rim Material</td><td>None</td></tr><tr style=\"color:blue;\"><td>Tire Thickness</td><td>None</td></tr></table>"
      ],
      "text/plain": [
       "<kechain2.models.part.Part at 0x7f5c46e0e860>"
      ]
     },
     "execution_count": 13,
     "metadata": {},
     "output_type": "execute_result"
    }
   ],
   "source": [
    "wheel = kechain2.model('Wheel')\n",
    "bike = kechain2.part('Bike')\n",
    "\n",
    "bike.add(wheel)"
   ]
  },
  {
   "cell_type": "code",
   "execution_count": 2,
   "metadata": {
    "collapsed": false
   },
   "outputs": [
    {
     "name": "stdout",
     "output_type": "stream",
     "text": [
      "{\"results\":[{\"name\":\"Spokes\",\"value\":8,\"description\":\"\",\"unit\":null,\"options\":{}}]}\n",
      "{\"results\":[{\"name\":\"Diameter\",\"value\":10.312938045659532,\"description\":\"\",\"unit\":null,\"options\":{}}]}\n",
      "{\"results\":[{\"name\":\"Spokes\",\"value\":9,\"description\":\"\",\"unit\":null,\"options\":{}}]}\n",
      "{\"results\":[{\"name\":\"Diameter\",\"value\":5.2805039408176375,\"description\":\"\",\"unit\":null,\"options\":{}}]}\n",
      "{\"results\":[{\"name\":\"Spokes\",\"value\":7,\"description\":\"\",\"unit\":null,\"options\":{}}]}\n",
      "{\"results\":[{\"name\":\"Diameter\",\"value\":6.8117012623048065,\"description\":\"\",\"unit\":null,\"options\":{}}]}\n",
      "{\"results\":[{\"name\":\"Spokes\",\"value\":3,\"description\":\"\",\"unit\":null,\"options\":{}}]}\n",
      "{\"results\":[{\"name\":\"Diameter\",\"value\":3.1812853624112334,\"description\":\"\",\"unit\":null,\"options\":{}}]}\n",
      "{\"results\":[{\"name\":\"Spokes\",\"value\":4,\"description\":\"\",\"unit\":null,\"options\":{}}]}\n",
      "{\"results\":[{\"name\":\"Diameter\",\"value\":-6.748161432658263,\"description\":\"\",\"unit\":null,\"options\":{}}]}\n",
      "{\"results\":[{\"name\":\"Spokes\",\"value\":9,\"description\":\"\",\"unit\":null,\"options\":{}}]}\n",
      "{\"results\":[{\"name\":\"Diameter\",\"value\":6.358263624951647,\"description\":\"\",\"unit\":null,\"options\":{}}]}\n",
      "{\"results\":[{\"name\":\"Spokes\",\"value\":4,\"description\":\"\",\"unit\":null,\"options\":{}}]}\n",
      "{\"results\":[{\"name\":\"Diameter\",\"value\":-6.735956162766884,\"description\":\"\",\"unit\":null,\"options\":{}}]}\n",
      "{\"results\":[{\"name\":\"Spokes\",\"value\":4,\"description\":\"\",\"unit\":null,\"options\":{}}]}\n",
      "{\"results\":[{\"name\":\"Diameter\",\"value\":-6.727509360279941,\"description\":\"\",\"unit\":null,\"options\":{}}]}\n",
      "{\"results\":[{\"name\":\"Spokes\",\"value\":3,\"description\":\"\",\"unit\":null,\"options\":{}}]}\n",
      "{\"results\":[{\"name\":\"Diameter\",\"value\":1.6581354793477876,\"description\":\"\",\"unit\":null,\"options\":{}}]}\n",
      "{\"results\":[{\"name\":\"Spokes\",\"value\":1,\"description\":\"\",\"unit\":null,\"options\":{}}]}\n",
      "{\"results\":[{\"name\":\"Diameter\",\"value\":10.177499673174074,\"description\":\"\",\"unit\":null,\"options\":{}}]}\n"
     ]
    }
   ],
   "source": [
    "import math\n",
    "import random\n",
    "\n",
    "wheel_model = kechain2.part(name='Wheel', category='MODEL')\n",
    "wheels = kechain2.parts(model=wheel_model)\n",
    "\n",
    "for wheel in wheels:\n",
    "    num_spokes = random.randint(1, 10)\n",
    "    noise = random.random() * 3\n",
    "    \n",
    "    wheel.property('Spokes').value = num_spokes\n",
    "    wheel.property('Diameter').value = 10 * math.sin(num_spokes) + noise"
   ]
  },
  {
   "cell_type": "code",
   "execution_count": 15,
   "metadata": {
    "collapsed": false,
    "scrolled": true
   },
   "outputs": [
    {
     "data": {
      "image/png": "[encoded data removed]",
      "text/plain": [
       "<matplotlib.figure.Figure at 0x7f5c46db1dd8>"
      ]
     },
     "metadata": {},
     "output_type": "display_data"
    }
   ],
   "source": [
    "import matplotlib.pyplot as plt\n",
    "import numpy as np\n",
    "\n",
    "x = np.arange(1, 10, 0.01)\n",
    "y = 10 * np.sin(x)\n",
    "plt.plot(x, y)\n",
    "\n",
    "wheels = kechain2.parts(model=kechain2.model('Wheel'))\n",
    "plt.plot(wheels['Spokes'], wheels['Diameter'], 'd', markersize=10)\n",
    "\n",
    "plt.xlabel('Spokes')\n",
    "plt.ylabel('Diameter [cm]')\n",
    "plt.title('Spokes\\' Theorem')\n",
    "\n",
    "kechain2.part('Bike').property('Picture').value = plt.gcf()\n",
    "\n",
    "plt.show()"
   ]
  },
  {
   "cell_type": "code",
   "execution_count": 7,
   "metadata": {
    "collapsed": false
   },
   "outputs": [
    {
     "data": {
      "text/plain": [
       "[10.3129380456595,\n",
       " 5.28050394081764,\n",
       " 6.81170126230481,\n",
       " 3.18128536241123,\n",
       " -6.74816143265826,\n",
       " 6.35826362495165,\n",
       " -6.73595616276688,\n",
       " -6.72750936027994,\n",
       " 1.65813547934779,\n",
       " 10.1774996731741]"
      ]
     },
     "execution_count": 7,
     "metadata": {},
     "output_type": "execute_result"
    }
   ],
   "source": [
    "wheels = kechain2.parts(model=kechain2.model('Wheel'))\n",
    "\n",
    "wheels.values('Diameter')"
   ]
  }
 ],
 "metadata": {
  "kernelspec": {
   "display_name": "Python 3",
   "language": "python",
   "name": "python3"
  },
  "language_info": {
   "codemirror_mode": {
    "name": "ipython",
    "version": 3
   },
   "file_extension": ".py",
   "mimetype": "text/x-python",
   "name": "python",
   "nbconvert_exporter": "python",
   "pygments_lexer": "ipython3",
   "version": "3.5.2"
  }
 },
 "nbformat": 4,
 "nbformat_minor": 2
}
