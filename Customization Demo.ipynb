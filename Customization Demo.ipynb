{
 "cells": [
  {
   "cell_type": "code",
   "execution_count": 1,
   "metadata": {
    "collapsed": true
   },
   "outputs": [],
   "source": [
    "import json\n",
    "from pykechain.models.inspector import Customization, SuperGrid, InspectorComponent\n",
    "from pykechain import Client\n",
    "client = Client.from_env('/Users/jochem/PycharmProjects/pykechain/.env')\n",
    "project = client.scope(\"Bike Project (pykechain testing)\")"
   ]
  },
  {
   "cell_type": "markdown",
   "metadata": {},
   "source": [
    "### get meself the task to configure"
   ]
  },
  {
   "cell_type": "code",
   "execution_count": 2,
   "metadata": {},
   "outputs": [],
   "source": [
    "custom_task = project.activity('automated_created_task')"
   ]
  },
  {
   "cell_type": "code",
   "execution_count": 4,
   "metadata": {},
   "outputs": [
    {
     "data": {
      "text/plain": [
       "<pyke Activity 'automated_created_task' id be4b57e6>"
      ]
     },
     "execution_count": 4,
     "metadata": {},
     "output_type": "execute_result"
    }
   ],
   "source": [
    "custom_task.edit(assignee='jochem.berends')\n",
    "custom_task"
   ]
  },
  {
   "cell_type": "markdown",
   "metadata": {},
   "source": [
    "### get meself a customization object"
   ]
  },
  {
   "cell_type": "code",
   "execution_count": 5,
   "metadata": {},
   "outputs": [],
   "source": [
    "customisation = Customization()"
   ]
  },
  {
   "cell_type": "code",
   "execution_count": 6,
   "metadata": {},
   "outputs": [
    {
     "data": {
      "text/html": [
       "<table width=100%><caption>Wheel</caption><tr><th>Property</th><th>Value</th></tr><tr style=\"color:blue;\"><td>Diameter</td><td>None</td></tr><tr style=\"color:blue;\"><td>Spokes</td><td>None</td></tr><tr style=\"color:blue;\"><td>Rim Material</td><td>None</td></tr><tr style=\"color:blue;\"><td>Tire Thickness</td><td>None</td></tr></table>"
      ],
      "text/plain": [
       "<pyke Part 'Wheel' id 7543ee3b>"
      ]
     },
     "execution_count": 6,
     "metadata": {},
     "output_type": "execute_result"
    }
   ],
   "source": [
    "wheel_model = project.model('Wheel')\n",
    "wheel_model"
   ]
  },
  {
   "cell_type": "code",
   "execution_count": 7,
   "metadata": {},
   "outputs": [
    {
     "data": {
      "text/html": [
       "<table width=100%><caption>Bike</caption><tr><th>Property</th><th>Value</th></tr><tr style=\"color:blue;\"><td>Gears</td><td>10</td></tr><tr style=\"color:blue;\"><td>Total height</td><td>None</td></tr><tr style=\"color:blue;\"><td>Picture</td><td>[Attachment: data_JLNlRTk.json]</td></tr><tr style=\"color:blue;\"><td>Description</td><td></td></tr><tr style=\"color:blue;\"><td>Expiring date</td><td>None</td></tr><tr style=\"color:blue;\"><td>Website</td><td>http://www.ns.nl</td></tr><tr style=\"color:blue;\"><td>Sale?</td><td>True</td></tr><tr style=\"color:blue;\"><td>linkkkkk</td><td>None</td></tr><tr style=\"color:blue;\"><td>select list</td><td>None</td></tr><tr style=\"color:blue;\"><td>RefTest</td><td><pyke Part 'Rear Wheel' id e08b073e></td></tr><tr style=\"color:blue;\"><td>Photo Attachment</td><td>[Attachment: Awesome.jpg]</td></tr><tr style=\"color:blue;\"><td>Plot Attachment</td><td>None</td></tr><tr style=\"color:blue;\"><td>Empty attachment</td><td>None</td></tr></table>"
      ],
      "text/plain": [
       "<pyke Part 'Bike' id 50857911>"
      ]
     },
     "execution_count": 7,
     "metadata": {},
     "output_type": "execute_result"
    }
   ],
   "source": [
    "parent_of_wheel_instances = project.parts(model=wheel_model)[0].parent()\n",
    "parent_of_wheel_instances"
   ]
  },
  {
   "cell_type": "markdown",
   "metadata": {},
   "source": [
    "### get meself a supergrid object"
   ]
  },
  {
   "cell_type": "code",
   "execution_count": 8,
   "metadata": {
    "collapsed": true
   },
   "outputs": [],
   "source": [
    "supergrid = SuperGrid(parent=parent_of_wheel_instances, model=wheel_model, activity_id=custom_task)"
   ]
  },
  {
   "cell_type": "code",
   "execution_count": 9,
   "metadata": {
    "collapsed": true
   },
   "outputs": [],
   "source": [
    "customisation.add_component(supergrid)"
   ]
  },
  {
   "cell_type": "code",
   "execution_count": 10,
   "metadata": {},
   "outputs": [
    {
     "data": {
      "text/plain": [
       "{'components': [{'filter': {'activity_id': 'fb9e714e-ee49-473f-a93e-1dccbe4b57e6',\n",
       "    'model': 'edc8eba0-47c5-415d-8727-6d927543ee3b',\n",
       "    'parent': 'e5106946-40f7-4b49-ae5e-421450857911'},\n",
       "   'xtype': 'superGrid'}]}"
      ]
     },
     "execution_count": 10,
     "metadata": {},
     "output_type": "execute_result"
    }
   ],
   "source": [
    "customisation.as_dict()"
   ]
  },
  {
   "cell_type": "code",
   "execution_count": 11,
   "metadata": {
    "collapsed": true
   },
   "outputs": [],
   "source": [
    "customisation.validate()"
   ]
  },
  {
   "cell_type": "markdown",
   "metadata": {},
   "source": [
    "### upload the customisation to the task"
   ]
  },
  {
   "cell_type": "code",
   "execution_count": 12,
   "metadata": {},
   "outputs": [],
   "source": [
    "custom_task.customize(config=customisation.as_dict())"
   ]
  },
  {
   "cell_type": "code",
   "execution_count": null,
   "metadata": {
    "collapsed": true
   },
   "outputs": [],
   "source": []
  }
 ],
 "metadata": {
  "kernelspec": {
   "display_name": "Python 3",
   "language": "python",
   "name": "python3"
  },
  "language_info": {
   "codemirror_mode": {
    "name": "ipython",
    "version": 3
   },
   "file_extension": ".py",
   "mimetype": "text/x-python",
   "name": "python",
   "nbconvert_exporter": "python",
   "pygments_lexer": "ipython3",
   "version": "3.5.2"
  }
 },
 "nbformat": 4,
 "nbformat_minor": 2
}
