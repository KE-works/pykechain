{
 "cells": [
  {
   "cell_type": "code",
   "execution_count": 1,
   "metadata": {},
   "outputs": [],
   "source": [
    "import json\n",
    "from pykechain.models.inspector import Customization, SuperGrid, InspectorComponent\n",
    "from pykechain import Client\n",
    "client = Client.from_env('/Users/jochem/PycharmProjects/pykechain/.env')"
   ]
  },
  {
   "cell_type": "code",
   "execution_count": 2,
   "metadata": {},
   "outputs": [],
   "source": [
    "project = client.scope(\"Bike Project (pykechain testing)\")"
   ]
  },
  {
   "cell_type": "code",
   "execution_count": 3,
   "metadata": {},
   "outputs": [
    {
     "data": {
      "text/plain": [
       "{'_body_position': None,\n",
       " '_cookies': <RequestsCookieJar[]>,\n",
       " 'body': None,\n",
       " 'headers': {'PyKechain-Version': '1.7.1', 'Authorization': 'Token ***REMOVED***', 'X-Requested-With': 'XMLHttpRequest', 'Connection': 'keep-alive', 'Accept-Encoding': 'gzip, deflate', 'User-Agent': 'python-requests/2.16.5', 'Accept': '*/*'},\n",
       " 'hooks': {'response': []},\n",
       " 'method': 'GET',\n",
       " 'url': 'https://kec2api.ke-chain.com/api/scopes.json?name=Bike+Project+%28pykechain+testing%29&status=ACTIVE'}"
      ]
     },
     "execution_count": 3,
     "metadata": {},
     "output_type": "execute_result"
    }
   ],
   "source": [
    "client.last_request.__dict__"
   ]
  },
  {
   "cell_type": "code",
   "execution_count": 4,
   "metadata": {},
   "outputs": [
    {
     "data": {
      "text/plain": [
       "[]"
      ]
     },
     "execution_count": 4,
     "metadata": {},
     "output_type": "execute_result"
    }
   ],
   "source": [
    "c = Customization()\n",
    "c.components"
   ]
  },
  {
   "cell_type": "code",
   "execution_count": 5,
   "metadata": {},
   "outputs": [],
   "source": [
    "sg = SuperGrid(parent='b0891403-e8e0-48f6-859f-dc3278533dc9', model='27dc444c-7aab-4b3c-b64a-a35546f049a3')"
   ]
  },
  {
   "cell_type": "code",
   "execution_count": 6,
   "metadata": {},
   "outputs": [],
   "source": [
    "sg\n",
    "sg.validate()"
   ]
  },
  {
   "cell_type": "code",
   "execution_count": 7,
   "metadata": {},
   "outputs": [
    {
     "name": "stdout",
     "output_type": "stream",
     "text": [
      "{\n",
      "  \"xtype\": \"superGrid\",\n",
      "  \"filter\": {\n",
      "    \"model\": \"27dc444c-7aab-4b3c-b64a-a35546f049a3\",\n",
      "    \"activity_id\": null,\n",
      "    \"parent\": \"b0891403-e8e0-48f6-859f-dc3278533dc9\"\n",
      "  }\n",
      "}\n"
     ]
    }
   ],
   "source": [
    "print(sg.render())"
   ]
  },
  {
   "cell_type": "code",
   "execution_count": 8,
   "metadata": {},
   "outputs": [],
   "source": [
    "ww = json.load(open('/Users/jochem/PycharmProjects/pykechain/w.json','r'))"
   ]
  },
  {
   "cell_type": "code",
   "execution_count": 9,
   "metadata": {},
   "outputs": [],
   "source": [
    "w = ww[1]"
   ]
  },
  {
   "cell_type": "code",
   "execution_count": 10,
   "metadata": {},
   "outputs": [
    {
     "data": {
      "text/plain": [
       "'{\\n   \"components\":[\\n      {\\n         \"xtype\":\"superGrid\",\\n         \"filter\":{\\n            \"parent\":\"b0891403-e8e0-48f6-859f-dc3278533dc9\",\\n            \"model\":\"27dc444c-7aab-4b3c-b64a-a35546f049a3\",\\n\"activity_id\":\"0cd02ef0-9d9e-456a-8ea9-f6ddb1977b31\"\\n         },\\n         \"viewModel\":{\\n            \"data\": {\\n                \"actions\":{\\n                    \"newInstance\": false,\\n                    \"edit\": true,\\n                    \"delete\": false,\\n                    \"export\": true\\n                } \\n            }\\n        \\n        }\\n      }\\n   ]\\n}'"
      ]
     },
     "execution_count": 10,
     "metadata": {},
     "output_type": "execute_result"
    }
   ],
   "source": [
    "w"
   ]
  },
  {
   "cell_type": "code",
   "execution_count": 11,
   "metadata": {},
   "outputs": [],
   "source": [
    "wc = Customization(json=json.loads(w))"
   ]
  },
  {
   "cell_type": "code",
   "execution_count": 12,
   "metadata": {},
   "outputs": [
    {
     "name": "stdout",
     "output_type": "stream",
     "text": [
      "{\n",
      "  \"xtype\": \"superGrid\",\n",
      "  \"viewModel\": {\n",
      "    \"data\": {\n",
      "      \"actions\": {\n",
      "        \"export\": true,\n",
      "        \"delete\": false,\n",
      "        \"edit\": true,\n",
      "        \"newInstance\": false\n",
      "      }\n",
      "    }\n",
      "  },\n",
      "  \"filter\": {\n",
      "    \"model\": \"27dc444c-7aab-4b3c-b64a-a35546f049a3\",\n",
      "    \"activity_id\": \"0cd02ef0-9d9e-456a-8ea9-f6ddb1977b31\",\n",
      "    \"parent\": \"b0891403-e8e0-48f6-859f-dc3278533dc9\"\n",
      "  }\n",
      "}\n"
     ]
    }
   ],
   "source": [
    "print(wc.components[0].render())"
   ]
  },
  {
   "cell_type": "code",
   "execution_count": 13,
   "metadata": {},
   "outputs": [
    {
     "name": "stdout",
     "output_type": "stream",
     "text": [
      "{\n",
      "  \"xtype\": \"superGrid\",\n",
      "  \"filter\": {\n",
      "    \"model\": \"27dc444c-7aab-4b3c-b64a-a35546f049a3\",\n",
      "    \"activity_id\": null,\n",
      "    \"parent\": \"b0891403-e8e0-48f6-859f-dc3278533dc9\"\n",
      "  }\n",
      "}\n"
     ]
    }
   ],
   "source": [
    "print(sg.render())"
   ]
  },
  {
   "cell_type": "code",
   "execution_count": 14,
   "metadata": {
    "collapsed": true
   },
   "outputs": [],
   "source": [
    "c.add_component(sg)"
   ]
  },
  {
   "cell_type": "code",
   "execution_count": 15,
   "metadata": {},
   "outputs": [
    {
     "name": "stdout",
     "output_type": "stream",
     "text": [
      "{\n",
      "  \"components\": [\n",
      "    {\n",
      "      \"xtype\": \"superGrid\",\n",
      "      \"filter\": {\n",
      "        \"model\": \"27dc444c-7aab-4b3c-b64a-a35546f049a3\",\n",
      "        \"activity_id\": null,\n",
      "        \"parent\": \"b0891403-e8e0-48f6-859f-dc3278533dc9\"\n",
      "      }\n",
      "    }\n",
      "  ]\n",
      "}\n"
     ]
    }
   ],
   "source": [
    "print(c.render())"
   ]
  },
  {
   "cell_type": "code",
   "execution_count": 16,
   "metadata": {},
   "outputs": [
    {
     "data": {
      "text/plain": [
       "'27dc444c-7aab-4b3c-b64a-a35546f049a3'"
      ]
     },
     "execution_count": 16,
     "metadata": {},
     "output_type": "execute_result"
    }
   ],
   "source": [
    "sg.get('model')"
   ]
  },
  {
   "cell_type": "code",
   "execution_count": 17,
   "metadata": {},
   "outputs": [],
   "source": [
    "b = project.model('Wheel')"
   ]
  },
  {
   "cell_type": "code",
   "execution_count": 18,
   "metadata": {},
   "outputs": [
    {
     "data": {
      "text/plain": [
       "'edc8eba0-47c5-415d-8727-6d927543ee3b'"
      ]
     },
     "execution_count": 18,
     "metadata": {},
     "output_type": "execute_result"
    }
   ],
   "source": [
    "b.id"
   ]
  },
  {
   "cell_type": "code",
   "execution_count": 19,
   "metadata": {
    "collapsed": true
   },
   "outputs": [],
   "source": [
    "sg.set('model', b)"
   ]
  },
  {
   "cell_type": "code",
   "execution_count": 20,
   "metadata": {},
   "outputs": [
    {
     "data": {
      "text/plain": [
       "{'filter': {'activity_id': None,\n",
       "  'model': 'edc8eba0-47c5-415d-8727-6d927543ee3b',\n",
       "  'parent': 'b0891403-e8e0-48f6-859f-dc3278533dc9'},\n",
       " 'xtype': 'superGrid'}"
      ]
     },
     "execution_count": 20,
     "metadata": {},
     "output_type": "execute_result"
    }
   ],
   "source": [
    "sg.as_dict()"
   ]
  },
  {
   "cell_type": "code",
   "execution_count": 22,
   "metadata": {},
   "outputs": [
    {
     "data": {
      "text/plain": [
       "{'filter': {'activity_id': None,\n",
       "  'model': 'edc8eba0-47c5-415d-8727-6d927543ee3b',\n",
       "  'parent': '53d64ebb-10d8-46b8-b669-ca268aed6313'},\n",
       " 'xtype': 'superGrid'}"
      ]
     },
     "execution_count": 22,
     "metadata": {},
     "output_type": "execute_result"
    }
   ],
   "source": [
    "sg.as_dict()"
   ]
  },
  {
   "cell_type": "code",
   "execution_count": 23,
   "metadata": {},
   "outputs": [],
   "source": [
    "i = client.parts(model=b)"
   ]
  },
  {
   "cell_type": "code",
   "execution_count": 31,
   "metadata": {},
   "outputs": [
    {
     "data": {
      "text/html": [
       "<table width=100%><tr><th>Part</th><th>ID</th></tr><tr><td>Rear Wheel</td><td>a80398fd-9271-4d94-b98d-23fee08b073e</td></tr><tr><td>Front Wheel</td><td>c252f203-3be7-48da-a2a8-2153efa19502</td></tr></table>"
      ],
      "text/plain": [
       "<pyke PartSet object 2 parts>"
      ]
     },
     "execution_count": 31,
     "metadata": {},
     "output_type": "execute_result"
    }
   ],
   "source": [
    "i"
   ]
  },
  {
   "cell_type": "code",
   "execution_count": 35,
   "metadata": {},
   "outputs": [
    {
     "data": {
      "text/html": [
       "<table width=100%><caption>Bike</caption><tr><th>Property</th><th>Value</th></tr><tr style=\"color:blue;\"><td>Gears</td><td>10</td></tr><tr style=\"color:blue;\"><td>Total height</td><td>None</td></tr><tr style=\"color:blue;\"><td>Picture</td><td>[Attachment: data_JLNlRTk.json]</td></tr><tr style=\"color:blue;\"><td>Description</td><td></td></tr><tr style=\"color:blue;\"><td>Expiring date</td><td>None</td></tr><tr style=\"color:blue;\"><td>Website</td><td>http://www.ns.nl</td></tr><tr style=\"color:blue;\"><td>Sale?</td><td>True</td></tr><tr style=\"color:blue;\"><td>linkkkkk</td><td>None</td></tr><tr style=\"color:blue;\"><td>select list</td><td>None</td></tr><tr style=\"color:blue;\"><td>RefTest</td><td><pyke Part 'Rear Wheel' id e08b073e></td></tr><tr style=\"color:blue;\"><td>Photo Attachment</td><td>[Attachment: Awesome.jpg]</td></tr><tr style=\"color:blue;\"><td>Plot Attachment</td><td>None</td></tr><tr style=\"color:blue;\"><td>Empty attachment</td><td>None</td></tr></table>"
      ],
      "text/plain": [
       "<pyke Part 'Bike' id 50857911>"
      ]
     },
     "execution_count": 35,
     "metadata": {},
     "output_type": "execute_result"
    }
   ],
   "source": [
    "i[0].parent()"
   ]
  },
  {
   "cell_type": "code",
   "execution_count": 26,
   "metadata": {
    "collapsed": true
   },
   "outputs": [],
   "source": [
    "t = project.activity('automated_created_task')"
   ]
  },
  {
   "cell_type": "code",
   "execution_count": 36,
   "metadata": {},
   "outputs": [],
   "source": [
    "sg.set('activity_id', t)\n",
    "sg.set('parent', i[0].parent())"
   ]
  },
  {
   "cell_type": "code",
   "execution_count": 37,
   "metadata": {},
   "outputs": [
    {
     "data": {
      "text/plain": [
       "{'filter': {'activity_id': 'fb9e714e-ee49-473f-a93e-1dccbe4b57e6',\n",
       "  'model': 'edc8eba0-47c5-415d-8727-6d927543ee3b',\n",
       "  'parent': 'e5106946-40f7-4b49-ae5e-421450857911'},\n",
       " 'xtype': 'superGrid'}"
      ]
     },
     "execution_count": 37,
     "metadata": {},
     "output_type": "execute_result"
    }
   ],
   "source": [
    "sg.as_dict()"
   ]
  },
  {
   "cell_type": "code",
   "execution_count": 38,
   "metadata": {},
   "outputs": [
    {
     "data": {
      "text/plain": [
       "{'components': [{'filter': {'activity_id': 'fb9e714e-ee49-473f-a93e-1dccbe4b57e6',\n",
       "    'model': 'edc8eba0-47c5-415d-8727-6d927543ee3b',\n",
       "    'parent': 'e5106946-40f7-4b49-ae5e-421450857911'},\n",
       "   'xtype': 'superGrid'}]}"
      ]
     },
     "execution_count": 38,
     "metadata": {},
     "output_type": "execute_result"
    }
   ],
   "source": [
    "t.customize(config=c.as_dict())\n",
    "c.as_dict()"
   ]
  },
  {
   "cell_type": "code",
   "execution_count": 39,
   "metadata": {},
   "outputs": [],
   "source": [
    "t.edit(assignee='jochem.berends')"
   ]
  },
  {
   "cell_type": "code",
   "execution_count": null,
   "metadata": {
    "collapsed": true
   },
   "outputs": [],
   "source": []
  }
 ],
 "metadata": {
  "kernelspec": {
   "display_name": "Python 3",
   "language": "python",
   "name": "python3"
  },
  "language_info": {
   "codemirror_mode": {
    "name": "ipython",
    "version": 3
   },
   "file_extension": ".py",
   "mimetype": "text/x-python",
   "name": "python",
   "nbconvert_exporter": "python",
   "pygments_lexer": "ipython3",
   "version": "3.5.2"
  }
 },
 "nbformat": 4,
 "nbformat_minor": 1
}
